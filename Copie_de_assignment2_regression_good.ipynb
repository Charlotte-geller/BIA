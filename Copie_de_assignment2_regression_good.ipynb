{
  "nbformat": 4,
  "nbformat_minor": 0,
  "metadata": {
    "colab": {
      "name": "Copie de assignment2_regression.ipynb",
      "provenance": [],
      "collapsed_sections": [],
      "include_colab_link": true
    },
    "kernelspec": {
      "display_name": "Python 3",
      "language": "python",
      "name": "python3"
    },
    "language_info": {
      "codemirror_mode": {
        "name": "ipython",
        "version": 3
      },
      "file_extension": ".py",
      "mimetype": "text/x-python",
      "name": "python",
      "nbconvert_exporter": "python",
      "pygments_lexer": "ipython3",
      "version": "3.7.6"
    },
    "nteract": {
      "version": "0.22.4"
    }
  },
  "cells": [
    {
      "cell_type": "markdown",
      "metadata": {
        "id": "view-in-github",
        "colab_type": "text"
      },
      "source": [
        "<a href=\"https://colab.research.google.com/github/Charlotte-geller/BIA/blob/master/Copie_de_assignment2_regression_good.ipynb\" target=\"_parent\"><img src=\"https://colab.research.google.com/assets/colab-badge.svg\" alt=\"Open In Colab\"/></a>"
      ]
    },
    {
      "cell_type": "markdown",
      "metadata": {
        "colab_type": "text",
        "id": "u0QKH8mswk1g"
      },
      "source": [
        "## Assignment 2: Regression and Classification\n",
        "\n",
        "- Due: May 13 @ 23.59\n",
        "- Deliverables: You should submit this notebook in Moodle AND answer the questions in the relevant Quiz in Moodle (your grade depends on the quiz).\n",
        "- Please make sure you fill out the quiz carefully. If you have the correct response on the notebook but not in the quiz you will lose some points. \n",
        "\n",
        "The assignment is about regression over two different datasets (2 parts), then a classification for the third part. Each part is independent, you can proceed to complete the different tasks (**please respect the different indications from the statement and the following hints!!!**). Then you should be able to answer the different questions."
      ]
    },
    {
      "cell_type": "code",
      "metadata": {
        "colab_type": "code",
        "id": "knk9AfcHwk1i",
        "outputId": "1008d8f2-0c2d-4575-ef5f-9b25cea35d1a",
        "colab": {
          "base_uri": "https://localhost:8080/",
          "height": 71
        }
      },
      "source": [
        "# Useful starting lines\n",
        "%matplotlib inline\n",
        "%load_ext autoreload\n",
        "%autoreload 2\n",
        "\n",
        "#Data processing import\n",
        "import numpy as np\n",
        "import pandas as pd\n",
        "\n",
        "#Set displayed options \n",
        "pd.set_option('display.max_rows', 500)\n",
        "pd.set_option('display.max_columns', 500)\n",
        "pd.set_option('display.width', 1000)\n",
        "\n",
        "#Visualisation import\n",
        "import matplotlib.pyplot as plt\n",
        "import seaborn as sns\n",
        "sns.set_style(\"darkgrid\")\n",
        "\n",
        "# Sklearn import\n",
        "from sklearn.preprocessing import MinMaxScaler # Normalization\n",
        "from sklearn.linear_model import LinearRegression # Regression linear model\n",
        "from sklearn.model_selection import train_test_split # Splitting the data set\n",
        "from sklearn.metrics import mean_squared_error, mean_absolute_error, r2_score # Metrics for errors\n",
        "from sklearn.model_selection import KFold # Cross validation\n",
        "\n",
        "#Suppress warning messages\n",
        "import warnings\n",
        "warnings.filterwarnings('ignore')"
      ],
      "execution_count": 3,
      "outputs": [
        {
          "output_type": "stream",
          "text": [
            "/usr/local/lib/python3.6/dist-packages/statsmodels/tools/_testing.py:19: FutureWarning: pandas.util.testing is deprecated. Use the functions in the public API at pandas.testing instead.\n",
            "  import pandas.util.testing as tm\n"
          ],
          "name": "stderr"
        }
      ]
    },
    {
      "cell_type": "markdown",
      "metadata": {
        "colab_type": "text",
        "id": "xiqS0dc1wk1s"
      },
      "source": [
        "## Part 1: Credit prediction\n",
        "\n",
        "The first part focuses on a credit dataset and contains anonymous credit and banking information. First, we give you the loading and the preprocessing steps before proceeding with the regression."
      ]
    },
    {
      "cell_type": "code",
      "metadata": {
        "colab_type": "code",
        "id": "ihAuQmYgwk1w",
        "outputId": "e685cf44-4e89-4e95-cac1-e1b509055346",
        "colab": {
          "base_uri": "https://localhost:8080/",
          "height": 425
        }
      },
      "source": [
        "url = \"https://raw.githubusercontent.com/michalis0/Business-Intelligence-and-Analytics/master/data/Credit.csv\"\n",
        "credits = pd.read_csv(url)\n",
        "display(credits.head())\n",
        "# Observations and columns (dimensions)\n",
        "print(\"Number of observations\", credits.shape[0])\n",
        "print(\"Number of dimensions\", credits.shape[1])\n",
        "#Drop unnamed: 0 columns because useless\n",
        "credits.drop(\"Unnamed: 0\", axis= 1)\n",
        "\n",
        "#Encode the Gender, Student and Married columns to integers for regression\n",
        "credits.replace(to_replace=['Female', ' Male'], value=[0, 1], inplace=True)\n",
        "credits.replace(to_replace=['No', 'Yes'], value=[0, 1], inplace=True)\n",
        "display(credits.head())"
      ],
      "execution_count": 4,
      "outputs": [
        {
          "output_type": "display_data",
          "data": {
            "text/html": [
              "<div>\n",
              "<style scoped>\n",
              "    .dataframe tbody tr th:only-of-type {\n",
              "        vertical-align: middle;\n",
              "    }\n",
              "\n",
              "    .dataframe tbody tr th {\n",
              "        vertical-align: top;\n",
              "    }\n",
              "\n",
              "    .dataframe thead th {\n",
              "        text-align: right;\n",
              "    }\n",
              "</style>\n",
              "<table border=\"1\" class=\"dataframe\">\n",
              "  <thead>\n",
              "    <tr style=\"text-align: right;\">\n",
              "      <th></th>\n",
              "      <th>Unnamed: 0</th>\n",
              "      <th>Income</th>\n",
              "      <th>Limit</th>\n",
              "      <th>Rating</th>\n",
              "      <th>Cards</th>\n",
              "      <th>Age</th>\n",
              "      <th>Education</th>\n",
              "      <th>Gender</th>\n",
              "      <th>Student</th>\n",
              "      <th>Married</th>\n",
              "      <th>Ethnicity</th>\n",
              "      <th>Balance</th>\n",
              "    </tr>\n",
              "  </thead>\n",
              "  <tbody>\n",
              "    <tr>\n",
              "      <th>0</th>\n",
              "      <td>1</td>\n",
              "      <td>14.891</td>\n",
              "      <td>3606</td>\n",
              "      <td>283</td>\n",
              "      <td>2</td>\n",
              "      <td>34</td>\n",
              "      <td>11</td>\n",
              "      <td>Male</td>\n",
              "      <td>No</td>\n",
              "      <td>Yes</td>\n",
              "      <td>Caucasian</td>\n",
              "      <td>333</td>\n",
              "    </tr>\n",
              "    <tr>\n",
              "      <th>1</th>\n",
              "      <td>2</td>\n",
              "      <td>106.025</td>\n",
              "      <td>6645</td>\n",
              "      <td>483</td>\n",
              "      <td>3</td>\n",
              "      <td>82</td>\n",
              "      <td>15</td>\n",
              "      <td>Female</td>\n",
              "      <td>Yes</td>\n",
              "      <td>Yes</td>\n",
              "      <td>Asian</td>\n",
              "      <td>903</td>\n",
              "    </tr>\n",
              "    <tr>\n",
              "      <th>2</th>\n",
              "      <td>3</td>\n",
              "      <td>104.593</td>\n",
              "      <td>7075</td>\n",
              "      <td>514</td>\n",
              "      <td>4</td>\n",
              "      <td>71</td>\n",
              "      <td>11</td>\n",
              "      <td>Male</td>\n",
              "      <td>No</td>\n",
              "      <td>No</td>\n",
              "      <td>Asian</td>\n",
              "      <td>580</td>\n",
              "    </tr>\n",
              "    <tr>\n",
              "      <th>3</th>\n",
              "      <td>4</td>\n",
              "      <td>148.924</td>\n",
              "      <td>9504</td>\n",
              "      <td>681</td>\n",
              "      <td>3</td>\n",
              "      <td>36</td>\n",
              "      <td>11</td>\n",
              "      <td>Female</td>\n",
              "      <td>No</td>\n",
              "      <td>No</td>\n",
              "      <td>Asian</td>\n",
              "      <td>964</td>\n",
              "    </tr>\n",
              "    <tr>\n",
              "      <th>4</th>\n",
              "      <td>5</td>\n",
              "      <td>55.882</td>\n",
              "      <td>4897</td>\n",
              "      <td>357</td>\n",
              "      <td>2</td>\n",
              "      <td>68</td>\n",
              "      <td>16</td>\n",
              "      <td>Male</td>\n",
              "      <td>No</td>\n",
              "      <td>Yes</td>\n",
              "      <td>Caucasian</td>\n",
              "      <td>331</td>\n",
              "    </tr>\n",
              "  </tbody>\n",
              "</table>\n",
              "</div>"
            ],
            "text/plain": [
              "   Unnamed: 0   Income  Limit  Rating  Cards  Age  Education  Gender Student Married  Ethnicity  Balance\n",
              "0           1   14.891   3606     283      2   34         11    Male      No     Yes  Caucasian      333\n",
              "1           2  106.025   6645     483      3   82         15  Female     Yes     Yes      Asian      903\n",
              "2           3  104.593   7075     514      4   71         11    Male      No      No      Asian      580\n",
              "3           4  148.924   9504     681      3   36         11  Female      No      No      Asian      964\n",
              "4           5   55.882   4897     357      2   68         16    Male      No     Yes  Caucasian      331"
            ]
          },
          "metadata": {
            "tags": []
          }
        },
        {
          "output_type": "stream",
          "text": [
            "Number of observations 400\n",
            "Number of dimensions 12\n"
          ],
          "name": "stdout"
        },
        {
          "output_type": "display_data",
          "data": {
            "text/html": [
              "<div>\n",
              "<style scoped>\n",
              "    .dataframe tbody tr th:only-of-type {\n",
              "        vertical-align: middle;\n",
              "    }\n",
              "\n",
              "    .dataframe tbody tr th {\n",
              "        vertical-align: top;\n",
              "    }\n",
              "\n",
              "    .dataframe thead th {\n",
              "        text-align: right;\n",
              "    }\n",
              "</style>\n",
              "<table border=\"1\" class=\"dataframe\">\n",
              "  <thead>\n",
              "    <tr style=\"text-align: right;\">\n",
              "      <th></th>\n",
              "      <th>Unnamed: 0</th>\n",
              "      <th>Income</th>\n",
              "      <th>Limit</th>\n",
              "      <th>Rating</th>\n",
              "      <th>Cards</th>\n",
              "      <th>Age</th>\n",
              "      <th>Education</th>\n",
              "      <th>Gender</th>\n",
              "      <th>Student</th>\n",
              "      <th>Married</th>\n",
              "      <th>Ethnicity</th>\n",
              "      <th>Balance</th>\n",
              "    </tr>\n",
              "  </thead>\n",
              "  <tbody>\n",
              "    <tr>\n",
              "      <th>0</th>\n",
              "      <td>1</td>\n",
              "      <td>14.891</td>\n",
              "      <td>3606</td>\n",
              "      <td>283</td>\n",
              "      <td>2</td>\n",
              "      <td>34</td>\n",
              "      <td>11</td>\n",
              "      <td>1</td>\n",
              "      <td>0</td>\n",
              "      <td>1</td>\n",
              "      <td>Caucasian</td>\n",
              "      <td>333</td>\n",
              "    </tr>\n",
              "    <tr>\n",
              "      <th>1</th>\n",
              "      <td>2</td>\n",
              "      <td>106.025</td>\n",
              "      <td>6645</td>\n",
              "      <td>483</td>\n",
              "      <td>3</td>\n",
              "      <td>82</td>\n",
              "      <td>15</td>\n",
              "      <td>0</td>\n",
              "      <td>1</td>\n",
              "      <td>1</td>\n",
              "      <td>Asian</td>\n",
              "      <td>903</td>\n",
              "    </tr>\n",
              "    <tr>\n",
              "      <th>2</th>\n",
              "      <td>3</td>\n",
              "      <td>104.593</td>\n",
              "      <td>7075</td>\n",
              "      <td>514</td>\n",
              "      <td>4</td>\n",
              "      <td>71</td>\n",
              "      <td>11</td>\n",
              "      <td>1</td>\n",
              "      <td>0</td>\n",
              "      <td>0</td>\n",
              "      <td>Asian</td>\n",
              "      <td>580</td>\n",
              "    </tr>\n",
              "    <tr>\n",
              "      <th>3</th>\n",
              "      <td>4</td>\n",
              "      <td>148.924</td>\n",
              "      <td>9504</td>\n",
              "      <td>681</td>\n",
              "      <td>3</td>\n",
              "      <td>36</td>\n",
              "      <td>11</td>\n",
              "      <td>0</td>\n",
              "      <td>0</td>\n",
              "      <td>0</td>\n",
              "      <td>Asian</td>\n",
              "      <td>964</td>\n",
              "    </tr>\n",
              "    <tr>\n",
              "      <th>4</th>\n",
              "      <td>5</td>\n",
              "      <td>55.882</td>\n",
              "      <td>4897</td>\n",
              "      <td>357</td>\n",
              "      <td>2</td>\n",
              "      <td>68</td>\n",
              "      <td>16</td>\n",
              "      <td>1</td>\n",
              "      <td>0</td>\n",
              "      <td>1</td>\n",
              "      <td>Caucasian</td>\n",
              "      <td>331</td>\n",
              "    </tr>\n",
              "  </tbody>\n",
              "</table>\n",
              "</div>"
            ],
            "text/plain": [
              "   Unnamed: 0   Income  Limit  Rating  Cards  Age  Education  Gender  Student  Married  Ethnicity  Balance\n",
              "0           1   14.891   3606     283      2   34         11       1        0        1  Caucasian      333\n",
              "1           2  106.025   6645     483      3   82         15       0        1        1      Asian      903\n",
              "2           3  104.593   7075     514      4   71         11       1        0        0      Asian      580\n",
              "3           4  148.924   9504     681      3   36         11       0        0        0      Asian      964\n",
              "4           5   55.882   4897     357      2   68         16       1        0        1  Caucasian      331"
            ]
          },
          "metadata": {
            "tags": []
          }
        }
      ]
    },
    {
      "cell_type": "markdown",
      "metadata": {
        "colab_type": "text",
        "id": "vWdb_8dRwk13"
      },
      "source": [
        "### One feature prediction without normalization\n",
        "\n",
        "**Task 1.1:**  \n",
        "From the credits dataset use a linear regression model to predict the `Rating` target from each of these 3 features separately: `Income`, `Limit` and `Age`. \n",
        "\n",
        "**Hint:** \n",
        "- Do not normalize the data\n",
        "- Split your dataset into two sets: the training set (80%) and the test set(20%), set the **shuffle parameter to true** and the **random state to 3**\n",
        "- Create your linear model by fitting also an intercept over the training dataset (set the fit_intercept parameter to `True`). Don't change any other parameters to the model.\n",
        "- Use the R^2 score, the MAE and the MSE on your test set to compare your 3 models (you should display these values)\n"
      ]
    },
    {
      "cell_type": "code",
      "metadata": {
        "colab_type": "code",
        "id": "dB9A_onYwk15",
        "outputId": "12ec1a56-cff5-46d4-8aa7-08756e5c737b",
        "colab": {
          "base_uri": "https://localhost:8080/",
          "height": 68
        }
      },
      "source": [
        "#Your code here: Rating prediction from Income.\n",
        "# print MAE, MSE, R^2 for the test set\n",
        "X = credits[['Income']] \n",
        "y = credits[['Rating']]\n",
        "X_train, X_test, y_train, y_test = train_test_split(X, y, test_size=0.2, random_state=3, shuffle=True)\n",
        "model = LinearRegression()\n",
        "model.fit(X_train, y_train)\n",
        "LinearRegression.fit_intercept=True\n",
        "print(\"R^2 (With Income features): \", round(model.score(X_test, y_test)))\n",
        "predictions = model.predict(X_test)\n",
        "mae = mean_absolute_error(y_test, predictions)\n",
        "mse = mean_squared_error(y_test, predictions)\n",
        "print(\"MAE (With Income features): \", mae)\n",
        "print(\"MSE (With Income features): \", mse)"
      ],
      "execution_count": 5,
      "outputs": [
        {
          "output_type": "stream",
          "text": [
            "R^2 (With Income features):  1.0\n",
            "MAE (With Income features):  77.32790991423158\n",
            "MSE (With Income features):  8390.016637814077\n"
          ],
          "name": "stdout"
        }
      ]
    },
    {
      "cell_type": "code",
      "metadata": {
        "colab_type": "code",
        "id": "qL-NQMCawk1-",
        "outputId": "a04396c2-e702-4185-cc97-7c5ac02138f1",
        "colab": {
          "base_uri": "https://localhost:8080/",
          "height": 68
        }
      },
      "source": [
        "#Your code here: Rating prediction from Limit\n",
        "# print MAE, MSE, R^2\n",
        "X = credits[['Limit']] \n",
        "y = credits[['Rating']]\n",
        "X_train, X_test, y_train, y_test = train_test_split(X, y, test_size=0.2, random_state=3, shuffle=True)\n",
        "model = LinearRegression()\n",
        "model.fit(X_train, y_train)\n",
        "LinearRegression.fit_intercept=True\n",
        "print(\"R^2 (With Limit features): \", round(model.score(X_test, y_test)))\n",
        "predictions = model.predict(X_test)\n",
        "mae = mean_absolute_error(y_test, predictions)\n",
        "mse = mean_squared_error(y_test, predictions)\n",
        "print(\"MAE (With Limit features): \", mae)\n",
        "print(\"MSE (With Limit features): \", mse)"
      ],
      "execution_count": 6,
      "outputs": [
        {
          "output_type": "stream",
          "text": [
            "R^2 (With Limit features):  1.0\n",
            "MAE (With Limit features):  9.447931255756936\n",
            "MSE (With Limit features):  130.82877317067613\n"
          ],
          "name": "stdout"
        }
      ]
    },
    {
      "cell_type": "code",
      "metadata": {
        "colab_type": "code",
        "id": "mV1EUkkFwk2D",
        "outputId": "1da704e0-e400-4a1a-fd8d-53d967618960",
        "colab": {
          "base_uri": "https://localhost:8080/",
          "height": 68
        }
      },
      "source": [
        "#Your code here: Rating prediction from Age\n",
        "# print MAE, MSE, R^2\n",
        "X = credits[['Age']] \n",
        "y = credits[['Rating']]\n",
        "X_train, X_test, y_train, y_test = train_test_split(X, y, test_size=0.2, random_state=3, shuffle=True)\n",
        "model = LinearRegression()\n",
        "model.fit(X_train, y_train)\n",
        "LinearRegression.fit_intercept=True\n",
        "print(\"R^2 (With Age features): \", abs(round(model.score(X_test, y_test))))\n",
        "predictions = model.predict(X_test)\n",
        "mae = mean_absolute_error(y_test, predictions)\n",
        "mse = mean_squared_error(y_test, predictions)\n",
        "print(\"MAE (With Age features): \", mae)\n",
        "print(\"MSE (With Age features): \", mse)"
      ],
      "execution_count": 7,
      "outputs": [
        {
          "output_type": "stream",
          "text": [
            "R^2 (With Age features):  0.0\n",
            "MAE (With Age features):  112.61574279441166\n",
            "MSE (With Age features):  19766.23597158794\n"
          ],
          "name": "stdout"
        }
      ]
    },
    {
      "cell_type": "code",
      "metadata": {
        "id": "FE4b_Cldq1ED",
        "colab_type": "code",
        "colab": {
          "base_uri": "https://localhost:8080/",
          "height": 68
        },
        "outputId": "6a64dba0-5756-446c-d438-d00b7c017ead"
      },
      "source": [
        "X = credits[['Age']] \n",
        "y = credits[['Rating']]\n",
        "X_train, X_test, y_train, y_test = train_test_split(X, y, test_size=0.2, random_state=3, shuffle=True)\n",
        "model = LinearRegression(fit_intercept=True)\n",
        "model.fit(X_train, y_train)\n",
        "LinearRegression.fit_intercept=True\n",
        "print(\"R^2 (With Age features): \", abs(round(model.score(X_test, y_test))))\n",
        "predictions = model.predict(X_test)\n",
        "mae = mean_absolute_error(y_test, predictions)\n",
        "mse = mean_squared_error(y_test, predictions)\n",
        "print(\"MAE (With Age features): \", mae)\n",
        "print(\"MSE (With Age features): \", mse)\n",
        "\n"
      ],
      "execution_count": 55,
      "outputs": [
        {
          "output_type": "stream",
          "text": [
            "R^2 (With Age features):  0.0\n",
            "MAE (With Age features):  112.61574279441166\n",
            "MSE (With Age features):  19766.23597158794\n"
          ],
          "name": "stdout"
        }
      ]
    },
    {
      "cell_type": "markdown",
      "metadata": {
        "colab_type": "text",
        "id": "y12u6w7Zwk2I"
      },
      "source": [
        "**Question 1 :**  \n",
        "What is the MAE of the \"Age\" model (rounded to the closest integer, eg 60) ?"
      ]
    },
    {
      "cell_type": "code",
      "metadata": {
        "colab_type": "code",
        "id": "bNDlWI3iwk2I",
        "outputId": "c09eedc7-d303-454f-f6d1-92bd6e9e5de0",
        "colab": {
          "base_uri": "https://localhost:8080/",
          "height": 34
        }
      },
      "source": [
        "#Your code here\n",
        "113"
      ],
      "execution_count": 8,
      "outputs": [
        {
          "output_type": "execute_result",
          "data": {
            "text/plain": [
              "113"
            ]
          },
          "metadata": {
            "tags": []
          },
          "execution_count": 8
        }
      ]
    },
    {
      "cell_type": "markdown",
      "metadata": {
        "colab_type": "text",
        "id": "aJ9q2ts4wk2N"
      },
      "source": [
        "**Question 2 :**  \n",
        "What is the MSE of the \"Limit\" model (rounded to the closest integer) ?"
      ]
    },
    {
      "cell_type": "code",
      "metadata": {
        "colab_type": "code",
        "id": "maTn_h9Ywk2O",
        "outputId": "4e0ed765-de36-41ae-9e14-2ecf73c6c311",
        "colab": {
          "base_uri": "https://localhost:8080/",
          "height": 34
        }
      },
      "source": [
        "#Your code here\n",
        "131"
      ],
      "execution_count": 9,
      "outputs": [
        {
          "output_type": "execute_result",
          "data": {
            "text/plain": [
              "131"
            ]
          },
          "metadata": {
            "tags": []
          },
          "execution_count": 9
        }
      ]
    },
    {
      "cell_type": "markdown",
      "metadata": {
        "colab_type": "text",
        "id": "xMDQ-W50wk2T"
      },
      "source": [
        "**Question 3 :**  \n",
        "Which feature best predicts the Rating target output ?"
      ]
    },
    {
      "cell_type": "code",
      "metadata": {
        "colab_type": "code",
        "id": "oKsjlw6Wwk2U",
        "scrolled": true,
        "outputId": "0e51a71c-0ec6-4902-eee4-0adf7685b735",
        "colab": {
          "base_uri": "https://localhost:8080/",
          "height": 34
        }
      },
      "source": [
        "#Your code here\n",
        "\"Limit\""
      ],
      "execution_count": 10,
      "outputs": [
        {
          "output_type": "execute_result",
          "data": {
            "text/plain": [
              "'Limit'"
            ]
          },
          "metadata": {
            "tags": []
          },
          "execution_count": 10
        }
      ]
    },
    {
      "cell_type": "markdown",
      "metadata": {
        "colab_type": "text",
        "id": "kpfEhuoywk2Y"
      },
      "source": [
        "### Several features encoding without normalization\n",
        "\n",
        "From the credits dataset, we want to predict the `Age` from some particular features: `Education`, `Student` and `Married`.\n",
        "\n",
        "**Task 1.2:**\n",
        "With a linear regression model, reuse the procedure from the previous task (applied to 3 features as inputs) to regress the `Age`.\n",
        "\n",
        "**Hint:** \n",
        "- Do not normalize the data\n",
        "- Split your dataset into two sets: the training (80%) and the test set(20%), set the shuffle parameter to true and the random state to 3\n",
        "- Create your linear model by fitting the intercept  weight over the training dataset (set the parameter to `True`)\n",
        "- Use the R^2 score, the MAE and the MSE to compare your 3 models (you should display these values)\n"
      ]
    },
    {
      "cell_type": "code",
      "metadata": {
        "colab_type": "code",
        "id": "aXyFRtb8wk2Z",
        "outputId": "8206bc6b-67b7-4d60-bef4-b5cdbac6e99a",
        "colab": {
          "base_uri": "https://localhost:8080/",
          "height": 68
        }
      },
      "source": [
        "#Your code here: Age prediction from Education Student and Married\n",
        "# print MAE, MSE, R^2 for the test set.\n",
        "X = credits[['Education', 'Student', 'Married']] \n",
        "y = credits[['Age']]\n",
        "X_train, X_test, y_train, y_test = train_test_split(X, y, test_size=0.2, random_state=3, shuffle=True)\n",
        "model = LinearRegression(fit_intercept=True)\n",
        "model.fit(X_train, y_train)\n",
        "predictions = model.predict(X_test)\n",
        "mae = mean_absolute_error(y_test, predictions)\n",
        "mse = mean_squared_error(y_test, predictions)\n",
        "r2 = abs(r2_score(y_test, predictions))\n",
        "\n",
        "print(\"R^2 %.2f\" % r2)\n",
        "print(\"MAE %.2f\" % mae)\n",
        "print(\"MSE %.2f\" % mse)"
      ],
      "execution_count": 11,
      "outputs": [
        {
          "output_type": "stream",
          "text": [
            "R^2 0.04\n",
            "MAE 14.22\n",
            "MSE 278.49\n"
          ],
          "name": "stdout"
        }
      ]
    },
    {
      "cell_type": "code",
      "metadata": {
        "id": "NtD5OaTzqo_9",
        "colab_type": "code",
        "colab": {
          "base_uri": "https://localhost:8080/",
          "height": 68
        },
        "outputId": "21ceaa79-b8bd-4154-f69d-213198517499"
      },
      "source": [
        "X = credits[['Education', 'Student', 'Married']] \n",
        "y = credits[['Age']]\n",
        "X_train, X_test, y_train, y_test = train_test_split(X, y, test_size=0.2, random_state=3, shuffle=True)\n",
        "scaler = MinMaxScaler()\n",
        "scaler.fit_transform(X_train, y_train)\n",
        "X_train = scaler.transform(X_train)\n",
        "X_test = scaler.transform(X_test)\n",
        "model = LinearRegression(fit_intercept=True)\n",
        "model.fit(X_train, y_train)\n",
        "predictions = model.predict(X_test)\n",
        "mae = mean_absolute_error(y_test, predictions)\n",
        "mse = mean_squared_error(y_test, predictions)\n",
        "r2 = abs(r2_score(y_test, predictions))\n",
        "\n",
        "print(\"R^2 %.2f\" % r2)\n",
        "print(\"MAE %.2f\" % mae)\n",
        "print(\"MSE %.2f\" % mse)"
      ],
      "execution_count": 54,
      "outputs": [
        {
          "output_type": "stream",
          "text": [
            "R^2 0.04\n",
            "MAE 14.22\n",
            "MSE 278.49\n"
          ],
          "name": "stdout"
        }
      ]
    },
    {
      "cell_type": "markdown",
      "metadata": {
        "colab_type": "text",
        "id": "Hz_POFhVwk2c"
      },
      "source": [
        "**Question 4:**  \n",
        "What is the MAE of your model (rounded to the nearest integer, eg 60) ?"
      ]
    },
    {
      "cell_type": "code",
      "metadata": {
        "colab_type": "code",
        "id": "JAX0KcHowk2d",
        "outputId": "a1deec4e-6375-4b8e-df24-57b7acd0270f",
        "colab": {
          "base_uri": "https://localhost:8080/",
          "height": 34
        }
      },
      "source": [
        "#Your code here:\n",
        "14\n"
      ],
      "execution_count": 12,
      "outputs": [
        {
          "output_type": "execute_result",
          "data": {
            "text/plain": [
              "14"
            ]
          },
          "metadata": {
            "tags": []
          },
          "execution_count": 12
        }
      ]
    },
    {
      "cell_type": "markdown",
      "metadata": {
        "colab_type": "text",
        "id": "tHVJp2rHwk2g"
      },
      "source": [
        "**Question 5:**  \n",
        "Predict the resulting value when putting the 5th row of the *original* data as input (ie on the 5 row of the all data that you have loaded, after selecting the 3 features and before the train/test split). Hint: This should correspond to a datapoint with values of (16,0,1) for the (Education, Student, Married) features. What predicted value for the age you get (rounded to the closest integer) ?\n",
        "\n",
        "**Hint:**\n",
        "- Use the `predict()` function of your model on the 5th row\n",
        "- To access this value you can use `iloc` (see definition of `iloc` to make sure you select the proper row) "
      ]
    },
    {
      "cell_type": "code",
      "metadata": {
        "colab_type": "code",
        "id": "oE0vn6yowk2i",
        "outputId": "635bc065-33be-4988-afc7-db20269720a3",
        "colab": {
          "base_uri": "https://localhost:8080/",
          "height": 34
        }
      },
      "source": [
        "#Your code here:\n",
        "loc = credits[['Education', 'Student', 'Married']].iloc[4].values\n",
        "pred = model.predict([loc])\n",
        "pred"
      ],
      "execution_count": 13,
      "outputs": [
        {
          "output_type": "execute_result",
          "data": {
            "text/plain": [
              "array([[54.31204088]])"
            ]
          },
          "metadata": {
            "tags": []
          },
          "execution_count": 13
        }
      ]
    },
    {
      "cell_type": "markdown",
      "metadata": {
        "colab_type": "text",
        "id": "PMRSJTU_wk2n"
      },
      "source": [
        "**Question 6:**  \n",
        "After rounding your prediction to the closest integer value, compute the absolute error from the true age value. What value do you get ?"
      ]
    },
    {
      "cell_type": "code",
      "metadata": {
        "colab_type": "code",
        "id": "VIontemVwk2n",
        "outputId": "4c0a6740-58e9-4006-da3f-f8d88dea084c",
        "colab": {
          "base_uri": "https://localhost:8080/",
          "height": 34
        }
      },
      "source": [
        "#Your code here:\n",
        "error = np.around(pred)-credits[['Age']].iloc[4].values\n",
        "error"
      ],
      "execution_count": 14,
      "outputs": [
        {
          "output_type": "execute_result",
          "data": {
            "text/plain": [
              "array([[-14.]])"
            ]
          },
          "metadata": {
            "tags": []
          },
          "execution_count": 14
        }
      ]
    },
    {
      "cell_type": "markdown",
      "metadata": {
        "colab_type": "text",
        "id": "dVnB6DpVOcxQ"
      },
      "source": [
        "**Task 1.3:**  \n",
        "Now redo the task 1.2 but this time with a normalization (`MinMaxScaler`sklearn module). Keep the same indications present in the hint. \n",
        "\n",
        "**Hints:**\n",
        "- with the scaler fit and transform X_train then transform X_test"
      ]
    },
    {
      "cell_type": "code",
      "metadata": {
        "colab_type": "code",
        "id": "KsSLtG1LOcxS",
        "outputId": "9849a39e-472c-4aa4-8fd1-4ddfb0f36324",
        "colab": {
          "base_uri": "https://localhost:8080/",
          "height": 68
        }
      },
      "source": [
        "#Your code here: Age prediction from Education Student and Married with normalization\n",
        "X = credits[['Education', 'Student', 'Married']] \n",
        "y = credits[['Age']]\n",
        "X_train, X_test, y_train, y_test = train_test_split(X, y, test_size=0.2, random_state=3, shuffle=True)\n",
        "model = LinearRegression()\n",
        "model.fit(X_train, y_train)\n",
        "LinearRegression.fit_intercept=True\n",
        "scaler = MinMaxScaler()\n",
        "scaler.fit_transform(X_train, y_train)\n",
        "X_train = scaler.transform(X_train)\n",
        "X_test = scaler.transform(X_test)\n",
        "predictions = model.predict(X_test)\n",
        "mae = mean_absolute_error(y_test, predictions)\n",
        "mse = mean_squared_error(y_test, predictions)\n",
        "r2 = abs(r2_score(y_test, predictions))\n",
        "\n",
        "print(\"R^2 %.2f\" % r2)\n",
        "print(\"MAE %.2f\" % mae)\n",
        "print(\"MSE %.2f\" % mse)"
      ],
      "execution_count": 15,
      "outputs": [
        {
          "output_type": "stream",
          "text": [
            "R^2 0.07\n",
            "MAE 14.46\n",
            "MSE 286.35\n"
          ],
          "name": "stdout"
        }
      ]
    },
    {
      "cell_type": "code",
      "metadata": {
        "id": "92JVEU5CqOvB",
        "colab_type": "code",
        "colab": {
          "base_uri": "https://localhost:8080/",
          "height": 68
        },
        "outputId": "be025c81-623d-47cb-a580-a5beb86624ed"
      },
      "source": [
        "X = credits[['Education', 'Student', 'Married']] \n",
        "y = credits[['Age']]\n",
        "X_train, X_test, y_train, y_test = train_test_split(X, y, test_size=0.2, random_state=3, shuffle=True)\n",
        "scaler = MinMaxScaler()\n",
        "scaler.fit_transform(X_train, y_train)\n",
        "X_train = scaler.transform(X_train)\n",
        "X_test = scaler.transform(X_test)\n",
        "model = LinearRegression(fit_intercept=True)\n",
        "model.fit(X_train, y_train)\n",
        "predictions = model.predict(X_test)\n",
        "mae = mean_absolute_error(y_test, predictions)\n",
        "mse = mean_squared_error(y_test, predictions)\n",
        "r2 = abs(r2_score(y_test, predictions))\n",
        "\n",
        "print(\"R^2 %.2f\" % r2)\n",
        "print(\"MAE %.2f\" % mae)\n",
        "print(\"MSE %.2f\" % mse)"
      ],
      "execution_count": 53,
      "outputs": [
        {
          "output_type": "stream",
          "text": [
            "R^2 0.04\n",
            "MAE 14.22\n",
            "MSE 278.49\n"
          ],
          "name": "stdout"
        }
      ]
    },
    {
      "cell_type": "markdown",
      "metadata": {
        "colab_type": "text",
        "id": "HmOzkh_zQnqJ"
      },
      "source": [
        "**Question 7:**  \n",
        "What is the new value of the coefficient related to the `Student` feature (rounding to one decimal place, e.g: 1.1) ?\n"
      ]
    },
    {
      "cell_type": "code",
      "metadata": {
        "colab_type": "code",
        "id": "sjI3UG3SQz-T",
        "outputId": "c37fb9ee-af60-4a0f-abe5-cf961b138514",
        "colab": {
          "base_uri": "https://localhost:8080/",
          "height": 34
        }
      },
      "source": [
        "#Your code here:\n",
        "a = model.coef_\n",
        "a_list = [num for elem in a for num in elem]\n",
        "round(a_list[1],1)"
      ],
      "execution_count": 16,
      "outputs": [
        {
          "output_type": "execute_result",
          "data": {
            "text/plain": [
              "-2.5"
            ]
          },
          "metadata": {
            "tags": []
          },
          "execution_count": 16
        }
      ]
    },
    {
      "cell_type": "markdown",
      "metadata": {
        "colab_type": "text",
        "id": "kTVg2QcBwk2r"
      },
      "source": [
        "### One hot encoding over ethnicity with normalization\n",
        "\n",
        "**Task 1.4:**  \n",
        "From the `credits` dataset, do 1-hot encoding on the column `Ethnicity` using the function `get_dummies()` from pandas. We are interested in the influence of ethnicity to predict the rating. \n",
        "Compare two models:\n",
        "- for the first one try to predict `Rating` from: `Education`, `Student` and `Married`\n",
        "- for the second one try to predict `Rating` from: `Student`, `Married`, `Education` and all the `Etchnicity` encoded columns generated by `get_dummies()`\n",
        "\n",
        "For both, apply normalization using the `MinMaxScaler`sklearn module.\n",
        "\n",
        "**Hint:**\n",
        "- Split your dataset into two sets: the training set (80%) and the test set(20%), set the **shuffle parameter to true** and the **random state to 3**\n",
        "- Create your linear model by fitting also the intercept over the training dataset (set the parameter to `True`)\n",
        "- Use the R^2 score, the MAE and the MSE on your test set to compare your 3 models (you should display these values)\n"
      ]
    },
    {
      "cell_type": "code",
      "metadata": {
        "colab_type": "code",
        "id": "VvlU0zcWwk2r",
        "outputId": "99bcf238-69c0-4a2c-8bfb-d7a5860e8988",
        "colab": {
          "base_uri": "https://localhost:8080/",
          "height": 204
        }
      },
      "source": [
        "#Your code here: One hot encoding on ethnicity\n",
        "credits_encoded = pd.get_dummies(credits.Ethnicity)\n",
        "credits = pd.concat([credits, credits_encoded], axis=1)\n",
        "credits.head()"
      ],
      "execution_count": 17,
      "outputs": [
        {
          "output_type": "execute_result",
          "data": {
            "text/html": [
              "<div>\n",
              "<style scoped>\n",
              "    .dataframe tbody tr th:only-of-type {\n",
              "        vertical-align: middle;\n",
              "    }\n",
              "\n",
              "    .dataframe tbody tr th {\n",
              "        vertical-align: top;\n",
              "    }\n",
              "\n",
              "    .dataframe thead th {\n",
              "        text-align: right;\n",
              "    }\n",
              "</style>\n",
              "<table border=\"1\" class=\"dataframe\">\n",
              "  <thead>\n",
              "    <tr style=\"text-align: right;\">\n",
              "      <th></th>\n",
              "      <th>Unnamed: 0</th>\n",
              "      <th>Income</th>\n",
              "      <th>Limit</th>\n",
              "      <th>Rating</th>\n",
              "      <th>Cards</th>\n",
              "      <th>Age</th>\n",
              "      <th>Education</th>\n",
              "      <th>Gender</th>\n",
              "      <th>Student</th>\n",
              "      <th>Married</th>\n",
              "      <th>Ethnicity</th>\n",
              "      <th>Balance</th>\n",
              "      <th>African American</th>\n",
              "      <th>Asian</th>\n",
              "      <th>Caucasian</th>\n",
              "    </tr>\n",
              "  </thead>\n",
              "  <tbody>\n",
              "    <tr>\n",
              "      <th>0</th>\n",
              "      <td>1</td>\n",
              "      <td>14.891</td>\n",
              "      <td>3606</td>\n",
              "      <td>283</td>\n",
              "      <td>2</td>\n",
              "      <td>34</td>\n",
              "      <td>11</td>\n",
              "      <td>1</td>\n",
              "      <td>0</td>\n",
              "      <td>1</td>\n",
              "      <td>Caucasian</td>\n",
              "      <td>333</td>\n",
              "      <td>0</td>\n",
              "      <td>0</td>\n",
              "      <td>1</td>\n",
              "    </tr>\n",
              "    <tr>\n",
              "      <th>1</th>\n",
              "      <td>2</td>\n",
              "      <td>106.025</td>\n",
              "      <td>6645</td>\n",
              "      <td>483</td>\n",
              "      <td>3</td>\n",
              "      <td>82</td>\n",
              "      <td>15</td>\n",
              "      <td>0</td>\n",
              "      <td>1</td>\n",
              "      <td>1</td>\n",
              "      <td>Asian</td>\n",
              "      <td>903</td>\n",
              "      <td>0</td>\n",
              "      <td>1</td>\n",
              "      <td>0</td>\n",
              "    </tr>\n",
              "    <tr>\n",
              "      <th>2</th>\n",
              "      <td>3</td>\n",
              "      <td>104.593</td>\n",
              "      <td>7075</td>\n",
              "      <td>514</td>\n",
              "      <td>4</td>\n",
              "      <td>71</td>\n",
              "      <td>11</td>\n",
              "      <td>1</td>\n",
              "      <td>0</td>\n",
              "      <td>0</td>\n",
              "      <td>Asian</td>\n",
              "      <td>580</td>\n",
              "      <td>0</td>\n",
              "      <td>1</td>\n",
              "      <td>0</td>\n",
              "    </tr>\n",
              "    <tr>\n",
              "      <th>3</th>\n",
              "      <td>4</td>\n",
              "      <td>148.924</td>\n",
              "      <td>9504</td>\n",
              "      <td>681</td>\n",
              "      <td>3</td>\n",
              "      <td>36</td>\n",
              "      <td>11</td>\n",
              "      <td>0</td>\n",
              "      <td>0</td>\n",
              "      <td>0</td>\n",
              "      <td>Asian</td>\n",
              "      <td>964</td>\n",
              "      <td>0</td>\n",
              "      <td>1</td>\n",
              "      <td>0</td>\n",
              "    </tr>\n",
              "    <tr>\n",
              "      <th>4</th>\n",
              "      <td>5</td>\n",
              "      <td>55.882</td>\n",
              "      <td>4897</td>\n",
              "      <td>357</td>\n",
              "      <td>2</td>\n",
              "      <td>68</td>\n",
              "      <td>16</td>\n",
              "      <td>1</td>\n",
              "      <td>0</td>\n",
              "      <td>1</td>\n",
              "      <td>Caucasian</td>\n",
              "      <td>331</td>\n",
              "      <td>0</td>\n",
              "      <td>0</td>\n",
              "      <td>1</td>\n",
              "    </tr>\n",
              "  </tbody>\n",
              "</table>\n",
              "</div>"
            ],
            "text/plain": [
              "   Unnamed: 0   Income  Limit  Rating  Cards  Age  Education  Gender  Student  Married  Ethnicity  Balance  African American  Asian  Caucasian\n",
              "0           1   14.891   3606     283      2   34         11       1        0        1  Caucasian      333                 0      0          1\n",
              "1           2  106.025   6645     483      3   82         15       0        1        1      Asian      903                 0      1          0\n",
              "2           3  104.593   7075     514      4   71         11       1        0        0      Asian      580                 0      1          0\n",
              "3           4  148.924   9504     681      3   36         11       0        0        0      Asian      964                 0      1          0\n",
              "4           5   55.882   4897     357      2   68         16       1        0        1  Caucasian      331                 0      0          1"
            ]
          },
          "metadata": {
            "tags": []
          },
          "execution_count": 17
        }
      ]
    },
    {
      "cell_type": "code",
      "metadata": {
        "colab_type": "code",
        "id": "7MbSNwrJwk2w",
        "outputId": "1c7c9890-b7f8-410d-9955-901153cb796d",
        "colab": {
          "base_uri": "https://localhost:8080/",
          "height": 68
        }
      },
      "source": [
        "#Your code here: Rating prediction from Education Student and Married\n",
        "# print MAE, MSE, R^2 of the test set\n",
        "X = credits[['Education', 'Student', 'Married']] \n",
        "y = credits[['Rating']]\n",
        "X_train, X_test, y_train, y_test = train_test_split(X, y, test_size=0.2, random_state=3, shuffle=True)\n",
        "scaler = MinMaxScaler()\n",
        "scaler.fit_transform(X_train, y_train)\n",
        "X_train = scaler.transform(X_train)\n",
        "X_test = scaler.transform(X_test)\n",
        "model = LinearRegression(fit_intercept=True)\n",
        "model.fit(X_train, y_train)\n",
        "predictions = model.predict(X_test)\n",
        "mae = mean_absolute_error(y_test, predictions)\n",
        "mse = mean_squared_error(y_test, predictions)\n",
        "r2 = r2_score(y_test, predictions)\n",
        "\n",
        "print(\"R^2 %.2f\" % r2)\n",
        "print(\"MAE %.2f\" % mae)\n",
        "print(\"MSE %.2f\" % mse)"
      ],
      "execution_count": 46,
      "outputs": [
        {
          "output_type": "stream",
          "text": [
            "R^2 -0.03\n",
            "MAE 110.54\n",
            "MSE 20218.57\n"
          ],
          "name": "stdout"
        }
      ]
    },
    {
      "cell_type": "code",
      "metadata": {
        "colab_type": "code",
        "id": "gIg8fBi3wk2y",
        "outputId": "db245074-241a-48ce-9436-6230695b9c11",
        "colab": {
          "base_uri": "https://localhost:8080/",
          "height": 68
        }
      },
      "source": [
        "#Your code here: Rating prediction from Education Student Married and Ethnicity encoding columns\n",
        "# print MAE, MSE, R^2 of the test set\n",
        "X = credits[['Education', 'Student', 'Married', 'African American',\t'Asian',\t'Caucasian']]\n",
        "y = credits[['Rating']]\n",
        "X_train, X_test, y_train, y_test = train_test_split(X, y, test_size=0.2, random_state=3, shuffle=True)\n",
        "scaler = MinMaxScaler()\n",
        "scaler.fit_transform(X_train, y_train)\n",
        "X_train = scaler.transform(X_train)\n",
        "X_test = scaler.transform(X_test)\n",
        "model = LinearRegression(fit_intercept=True)\n",
        "model.fit(X_train, y_train)\n",
        "predictions = model.predict(X_test)\n",
        "mae = mean_absolute_error(y_test, predictions)\n",
        "mse = mean_squared_error(y_test, predictions)\n",
        "r2 = r2_score(y_test, predictions)\n",
        "\n",
        "print(\"R^2 %.2f\" % r2)\n",
        "print(\"MAE %.2f\" % mae)\n",
        "print(\"MSE %.2f\" % mse)"
      ],
      "execution_count": 47,
      "outputs": [
        {
          "output_type": "stream",
          "text": [
            "R^2 -0.07\n",
            "MAE 113.68\n",
            "MSE 20956.03\n"
          ],
          "name": "stdout"
        }
      ]
    },
    {
      "cell_type": "markdown",
      "metadata": {
        "colab_type": "text",
        "id": "gC_bfhYJwk22"
      },
      "source": [
        "**Question 8:**  \n",
        "What is the value of the MSE for the first model (rounded to the closest integer, eg 10000)?\n"
      ]
    },
    {
      "cell_type": "code",
      "metadata": {
        "colab_type": "code",
        "id": "v1J1kLJewk22",
        "outputId": "deaa499f-1732-4f78-d3f0-5dfacd606b4a",
        "colab": {
          "base_uri": "https://localhost:8080/",
          "height": 34
        }
      },
      "source": [
        "#Your code here:\n",
        "round(118.98)"
      ],
      "execution_count": 20,
      "outputs": [
        {
          "output_type": "execute_result",
          "data": {
            "text/plain": [
              "119"
            ]
          },
          "metadata": {
            "tags": []
          },
          "execution_count": 20
        }
      ]
    },
    {
      "cell_type": "markdown",
      "metadata": {
        "colab_type": "text",
        "id": "QSJsNIcTwk25"
      },
      "source": [
        "**Question 9:**   \n",
        "Is adding the ethnicity helping to better predict the rating?\n"
      ]
    },
    {
      "cell_type": "code",
      "metadata": {
        "colab_type": "code",
        "id": "56u5BHt3wk26",
        "outputId": "d349b601-9b7e-4ce6-ebc1-3ea8bdea5182",
        "colab": {
          "base_uri": "https://localhost:8080/",
          "height": 34
        }
      },
      "source": [
        "#Your code here:\n",
        "\"yes\""
      ],
      "execution_count": 21,
      "outputs": [
        {
          "output_type": "execute_result",
          "data": {
            "text/plain": [
              "'yes'"
            ]
          },
          "metadata": {
            "tags": []
          },
          "execution_count": 21
        }
      ]
    },
    {
      "cell_type": "markdown",
      "metadata": {
        "colab_type": "text",
        "id": "NktP-w9nwk29"
      },
      "source": [
        "## Part 2: Wage prediction \n",
        "\n",
        "This part of this assignment will focus on the compensation CEO dataset. For this part, apply normalization each time (`MinMaxScaler` sklearn module)."
      ]
    },
    {
      "cell_type": "code",
      "metadata": {
        "colab_type": "code",
        "id": "LyOlYTZEwk29",
        "outputId": "d2b1e477-7c25-410b-ee94-d9844d882bc2",
        "scrolled": true,
        "colab": {
          "base_uri": "https://localhost:8080/",
          "height": 425
        }
      },
      "source": [
        "url = \"https://raw.githubusercontent.com/michalis0/Business-Intelligence-and-Analytics/master/data/Wage.csv\"\n",
        "wages = pd.read_csv(url)\n",
        "wages.drop(['sex', 'region'], axis=1, inplace=True)\n",
        "display(wages.head())\n",
        "\n",
        "# Observations and columns (dimensions)\n",
        "print(\"Number of observations\", wages.shape[0])\n",
        "print(\"Number of dimensions\", wages.shape[1])\n",
        "columns_one_hot_encoding = ['race', 'maritl', 'education' ]\n",
        "columns_bin_encoding = ['jobclass', 'health', 'health_ins']\n",
        "\n",
        "wages.replace(to_replace=['2. No', '1. Yes', '1. Industrial', '2. Information', '1. <=Good', '2. >=Very Good' ], value=[0, 1, 0, 1, 0, 1], inplace=True)\n",
        "wages.replace(to_replace=['1. Never Married', '2. Married', '4. Divorced', '3. Widowed', '5. Separated'], value=['Never Married', 'Married', 'Divorced', 'Widowed', 'Separated'], inplace=True)\n",
        "wages.replace(to_replace=['1. White', '3. Asian', '4. Other', '2. Black'], value=['White', 'Asian', 'Other', 'Black'], inplace=True)\n",
        "wages.replace(to_replace=['1. < HS Grad', '4. College Grad', '3. Some College', '2. HS Grad','5. Advanced Degree'], value=['< HS Grad', 'College Grad', 'Some College', 'HS Grad','Advanced Degree'], inplace=True)\n",
        "\n",
        "display(wages.head())"
      ],
      "execution_count": 22,
      "outputs": [
        {
          "output_type": "display_data",
          "data": {
            "text/html": [
              "<div>\n",
              "<style scoped>\n",
              "    .dataframe tbody tr th:only-of-type {\n",
              "        vertical-align: middle;\n",
              "    }\n",
              "\n",
              "    .dataframe tbody tr th {\n",
              "        vertical-align: top;\n",
              "    }\n",
              "\n",
              "    .dataframe thead th {\n",
              "        text-align: right;\n",
              "    }\n",
              "</style>\n",
              "<table border=\"1\" class=\"dataframe\">\n",
              "  <thead>\n",
              "    <tr style=\"text-align: right;\">\n",
              "      <th></th>\n",
              "      <th>year</th>\n",
              "      <th>age</th>\n",
              "      <th>maritl</th>\n",
              "      <th>race</th>\n",
              "      <th>education</th>\n",
              "      <th>jobclass</th>\n",
              "      <th>health</th>\n",
              "      <th>health_ins</th>\n",
              "      <th>logwage</th>\n",
              "      <th>wage</th>\n",
              "    </tr>\n",
              "  </thead>\n",
              "  <tbody>\n",
              "    <tr>\n",
              "      <th>0</th>\n",
              "      <td>2006</td>\n",
              "      <td>18</td>\n",
              "      <td>1. Never Married</td>\n",
              "      <td>1. White</td>\n",
              "      <td>1. &lt; HS Grad</td>\n",
              "      <td>1. Industrial</td>\n",
              "      <td>1. &lt;=Good</td>\n",
              "      <td>2. No</td>\n",
              "      <td>4.318063</td>\n",
              "      <td>75.043154</td>\n",
              "    </tr>\n",
              "    <tr>\n",
              "      <th>1</th>\n",
              "      <td>2004</td>\n",
              "      <td>24</td>\n",
              "      <td>1. Never Married</td>\n",
              "      <td>1. White</td>\n",
              "      <td>4. College Grad</td>\n",
              "      <td>2. Information</td>\n",
              "      <td>2. &gt;=Very Good</td>\n",
              "      <td>2. No</td>\n",
              "      <td>4.255273</td>\n",
              "      <td>70.476020</td>\n",
              "    </tr>\n",
              "    <tr>\n",
              "      <th>2</th>\n",
              "      <td>2003</td>\n",
              "      <td>45</td>\n",
              "      <td>2. Married</td>\n",
              "      <td>1. White</td>\n",
              "      <td>3. Some College</td>\n",
              "      <td>1. Industrial</td>\n",
              "      <td>1. &lt;=Good</td>\n",
              "      <td>1. Yes</td>\n",
              "      <td>4.875061</td>\n",
              "      <td>130.982177</td>\n",
              "    </tr>\n",
              "    <tr>\n",
              "      <th>3</th>\n",
              "      <td>2003</td>\n",
              "      <td>43</td>\n",
              "      <td>2. Married</td>\n",
              "      <td>3. Asian</td>\n",
              "      <td>4. College Grad</td>\n",
              "      <td>2. Information</td>\n",
              "      <td>2. &gt;=Very Good</td>\n",
              "      <td>1. Yes</td>\n",
              "      <td>5.041393</td>\n",
              "      <td>154.685293</td>\n",
              "    </tr>\n",
              "    <tr>\n",
              "      <th>4</th>\n",
              "      <td>2005</td>\n",
              "      <td>50</td>\n",
              "      <td>4. Divorced</td>\n",
              "      <td>1. White</td>\n",
              "      <td>2. HS Grad</td>\n",
              "      <td>2. Information</td>\n",
              "      <td>1. &lt;=Good</td>\n",
              "      <td>1. Yes</td>\n",
              "      <td>4.318063</td>\n",
              "      <td>75.043154</td>\n",
              "    </tr>\n",
              "  </tbody>\n",
              "</table>\n",
              "</div>"
            ],
            "text/plain": [
              "   year  age            maritl      race        education        jobclass          health health_ins   logwage        wage\n",
              "0  2006   18  1. Never Married  1. White     1. < HS Grad   1. Industrial       1. <=Good      2. No  4.318063   75.043154\n",
              "1  2004   24  1. Never Married  1. White  4. College Grad  2. Information  2. >=Very Good      2. No  4.255273   70.476020\n",
              "2  2003   45        2. Married  1. White  3. Some College   1. Industrial       1. <=Good     1. Yes  4.875061  130.982177\n",
              "3  2003   43        2. Married  3. Asian  4. College Grad  2. Information  2. >=Very Good     1. Yes  5.041393  154.685293\n",
              "4  2005   50       4. Divorced  1. White       2. HS Grad  2. Information       1. <=Good     1. Yes  4.318063   75.043154"
            ]
          },
          "metadata": {
            "tags": []
          }
        },
        {
          "output_type": "stream",
          "text": [
            "Number of observations 3000\n",
            "Number of dimensions 10\n"
          ],
          "name": "stdout"
        },
        {
          "output_type": "display_data",
          "data": {
            "text/html": [
              "<div>\n",
              "<style scoped>\n",
              "    .dataframe tbody tr th:only-of-type {\n",
              "        vertical-align: middle;\n",
              "    }\n",
              "\n",
              "    .dataframe tbody tr th {\n",
              "        vertical-align: top;\n",
              "    }\n",
              "\n",
              "    .dataframe thead th {\n",
              "        text-align: right;\n",
              "    }\n",
              "</style>\n",
              "<table border=\"1\" class=\"dataframe\">\n",
              "  <thead>\n",
              "    <tr style=\"text-align: right;\">\n",
              "      <th></th>\n",
              "      <th>year</th>\n",
              "      <th>age</th>\n",
              "      <th>maritl</th>\n",
              "      <th>race</th>\n",
              "      <th>education</th>\n",
              "      <th>jobclass</th>\n",
              "      <th>health</th>\n",
              "      <th>health_ins</th>\n",
              "      <th>logwage</th>\n",
              "      <th>wage</th>\n",
              "    </tr>\n",
              "  </thead>\n",
              "  <tbody>\n",
              "    <tr>\n",
              "      <th>0</th>\n",
              "      <td>2006</td>\n",
              "      <td>18</td>\n",
              "      <td>Never Married</td>\n",
              "      <td>White</td>\n",
              "      <td>&lt; HS Grad</td>\n",
              "      <td>0</td>\n",
              "      <td>0</td>\n",
              "      <td>0</td>\n",
              "      <td>4.318063</td>\n",
              "      <td>75.043154</td>\n",
              "    </tr>\n",
              "    <tr>\n",
              "      <th>1</th>\n",
              "      <td>2004</td>\n",
              "      <td>24</td>\n",
              "      <td>Never Married</td>\n",
              "      <td>White</td>\n",
              "      <td>College Grad</td>\n",
              "      <td>1</td>\n",
              "      <td>1</td>\n",
              "      <td>0</td>\n",
              "      <td>4.255273</td>\n",
              "      <td>70.476020</td>\n",
              "    </tr>\n",
              "    <tr>\n",
              "      <th>2</th>\n",
              "      <td>2003</td>\n",
              "      <td>45</td>\n",
              "      <td>Married</td>\n",
              "      <td>White</td>\n",
              "      <td>Some College</td>\n",
              "      <td>0</td>\n",
              "      <td>0</td>\n",
              "      <td>1</td>\n",
              "      <td>4.875061</td>\n",
              "      <td>130.982177</td>\n",
              "    </tr>\n",
              "    <tr>\n",
              "      <th>3</th>\n",
              "      <td>2003</td>\n",
              "      <td>43</td>\n",
              "      <td>Married</td>\n",
              "      <td>Asian</td>\n",
              "      <td>College Grad</td>\n",
              "      <td>1</td>\n",
              "      <td>1</td>\n",
              "      <td>1</td>\n",
              "      <td>5.041393</td>\n",
              "      <td>154.685293</td>\n",
              "    </tr>\n",
              "    <tr>\n",
              "      <th>4</th>\n",
              "      <td>2005</td>\n",
              "      <td>50</td>\n",
              "      <td>Divorced</td>\n",
              "      <td>White</td>\n",
              "      <td>HS Grad</td>\n",
              "      <td>1</td>\n",
              "      <td>0</td>\n",
              "      <td>1</td>\n",
              "      <td>4.318063</td>\n",
              "      <td>75.043154</td>\n",
              "    </tr>\n",
              "  </tbody>\n",
              "</table>\n",
              "</div>"
            ],
            "text/plain": [
              "   year  age         maritl   race     education  jobclass  health  health_ins   logwage        wage\n",
              "0  2006   18  Never Married  White     < HS Grad         0       0           0  4.318063   75.043154\n",
              "1  2004   24  Never Married  White  College Grad         1       1           0  4.255273   70.476020\n",
              "2  2003   45        Married  White  Some College         0       0           1  4.875061  130.982177\n",
              "3  2003   43        Married  Asian  College Grad         1       1           1  5.041393  154.685293\n",
              "4  2005   50       Divorced  White       HS Grad         1       0           1  4.318063   75.043154"
            ]
          },
          "metadata": {
            "tags": []
          }
        }
      ]
    },
    {
      "cell_type": "markdown",
      "metadata": {
        "colab_type": "text",
        "id": "hy0WcRQqwk3B"
      },
      "source": [
        "### Several features regression\n",
        "**Task 2.1:**  \n",
        "Use a linear regression model to predict the `wage` and the `logwage` (two separate models) using the features: `jobclass` ,`health_ins` and `health`. \n",
        "\n",
        "**Hint:**\n",
        "- Split your dataset into two sets: the training set (80%) and the test set(20%), set the **shuffle parameter to true** and the **random state to 3**\n",
        "- Create your linear model by fitting the intercept  weight over the training dataset (set the parameter to `True`)\n",
        "- Use the R^2 score, the MAE and the MSE on your test set to compare your 3 models (you should display these values)\n",
        "- Apply normalization (`MinMaxScaler` sklearn module).\n",
        "\n",
        "\n"
      ]
    },
    {
      "cell_type": "code",
      "metadata": {
        "colab_type": "code",
        "id": "JDOWcRYowk3B",
        "outputId": "1a7be422-85a3-4dd3-cb6e-6b2e19c4a19c",
        "colab": {
          "base_uri": "https://localhost:8080/",
          "height": 68
        }
      },
      "source": [
        "#Your code here: wage prediction from jobclass health_ins and health\n",
        "# print MAE, MSE, R^2 of test set\n",
        "X = wages[[\"jobclass\" ,\"health_ins\", \"health\"]]\n",
        "y = wages[['wage']]\n",
        "X_train, X_test, y_train, y_test = train_test_split(X, y, test_size=0.2, random_state=3, shuffle=True)\n",
        "scaler = MinMaxScaler()\n",
        "scaler.fit_transform(X_train, y_train)\n",
        "X_train = scaler.transform(X_train)\n",
        "X_test = scaler.transform(X_test)\n",
        "model = LinearRegression(fit_intercept=True)\n",
        "model.fit(X_train, y_train)\n",
        "predictions = model.predict(X_test)\n",
        "mae = mean_absolute_error(y_test, predictions)\n",
        "mse = mean_squared_error(y_test, predictions)\n",
        "r2 = r2_score(y_test, predictions)\n",
        "\n",
        "print(\"R^2 %.2f\" % r2)\n",
        "print(\"MAE %.2f\" % mae)\n",
        "print(\"MSE %.2f\" % mse)"
      ],
      "execution_count": 48,
      "outputs": [
        {
          "output_type": "stream",
          "text": [
            "R^2 0.12\n",
            "MAE 27.10\n",
            "MSE 1525.52\n"
          ],
          "name": "stdout"
        }
      ]
    },
    {
      "cell_type": "code",
      "metadata": {
        "id": "orBTQSeyppxa",
        "colab_type": "code",
        "colab": {
          "base_uri": "https://localhost:8080/",
          "height": 68
        },
        "outputId": "01514f5f-8b43-4225-d53e-624320de1d85"
      },
      "source": [
        "X = wages[[\"jobclass\" ,\"health_ins\", \"health\"]]\n",
        "y = wages[['logwage']]\n",
        "X_train, X_test, y_train, y_test = train_test_split(X, y, test_size=0.2, random_state=3, shuffle=True)\n",
        "model = LinearRegression()\n",
        "model.fit(X_train, y_train)\n",
        "LinearRegression.fit_intercept=True\n",
        "scaler = MinMaxScaler()\n",
        "scaler.fit_transform(X_train, y_train)\n",
        "X_train = scaler.transform(X_train)\n",
        "X_test = scaler.transform(X_test)\n",
        "predictions = model.predict(X_test)\n",
        "mae = mean_absolute_error(y_test, predictions)\n",
        "mse = mean_squared_error(y_test, predictions)\n",
        "r2 = abs(r2_score(y_test, predictions))\n",
        "\n",
        "print(\"R^2 %.2f\" % r2)\n",
        "print(\"MAE %.2f\" % mae)\n",
        "print(\"MSE %.2f\" % mse)"
      ],
      "execution_count": 50,
      "outputs": [
        {
          "output_type": "stream",
          "text": [
            "R^2 0.15\n",
            "MAE 0.24\n",
            "MSE 0.10\n"
          ],
          "name": "stdout"
        }
      ]
    },
    {
      "cell_type": "code",
      "metadata": {
        "colab_type": "code",
        "id": "tcghmeGawk3E",
        "outputId": "ebd3a9f7-ff09-40d4-9199-f64293f4f018",
        "colab": {
          "base_uri": "https://localhost:8080/",
          "height": 68
        }
      },
      "source": [
        "#Your code here: logwage prediction from jobclass health_ins and health\n",
        "# print MAE, MSE, R^2 of test set\n",
        "X = wages[[\"jobclass\" ,\"health_ins\", \"health\"]]\n",
        "y = wages[['logwage']]\n",
        "X_train, X_test, y_train, y_test = train_test_split(X, y, test_size=0.2, random_state=3, shuffle=True)\n",
        "scaler = MinMaxScaler()\n",
        "scaler.fit_transform(X_train, y_train)\n",
        "X_train = scaler.transform(X_train)\n",
        "X_test = scaler.transform(X_test)\n",
        "model = LinearRegression(fit_intercept=True)\n",
        "model.fit(X_train, y_train)\n",
        "predictions = model.predict(X_test)\n",
        "mae = mean_absolute_error(y_test, predictions)\n",
        "mse = mean_squared_error(y_test, predictions)\n",
        "r2 = r2_score(y_test, predictions)\n",
        "\n",
        "print(\"R^2 %.2f\" % r2)\n",
        "print(\"MAE %.2f\" % mae)\n",
        "print(\"MSE %.2f\" % mse)"
      ],
      "execution_count": 51,
      "outputs": [
        {
          "output_type": "stream",
          "text": [
            "R^2 0.15\n",
            "MAE 0.24\n",
            "MSE 0.10\n"
          ],
          "name": "stdout"
        }
      ]
    },
    {
      "cell_type": "markdown",
      "metadata": {
        "colab_type": "text",
        "id": "nbVtreXcwk3J"
      },
      "source": [
        "**Question 10:**  \n",
        "Which target (`wage` or `logwage`) do these features predict the best ?\n"
      ]
    },
    {
      "cell_type": "code",
      "metadata": {
        "colab_type": "code",
        "id": "XIwhrKpvwk3K",
        "outputId": "68a1b430-4017-4e55-ceb9-58b93a3c28d6",
        "colab": {
          "base_uri": "https://localhost:8080/",
          "height": 34
        }
      },
      "source": [
        "#Your code here:\n",
        "\"logwage\""
      ],
      "execution_count": 25,
      "outputs": [
        {
          "output_type": "execute_result",
          "data": {
            "text/plain": [
              "'logwage'"
            ]
          },
          "metadata": {
            "tags": []
          },
          "execution_count": 25
        }
      ]
    },
    {
      "cell_type": "markdown",
      "metadata": {
        "colab_type": "text",
        "id": "mJnZC8sbwk3O"
      },
      "source": [
        "**Task 2.2:**  \n",
        "\n",
        "Start with a model which uses as input features the `jobclass` and `health_ins`. Generate this model first (model 1).  \n",
        "Then **sequentially** (i.e., in a for loop) create 3 more models by adding the `health` (model 2),  the `age` (model 3) then the `year` (model 4) to the previous features matrix. (i.e model1_features -> [`jobclass`, `health_ins`], model2_features -> [`jobclass`, `health_ins`, `health`], model3_features -> [`jobclass`, `health_ins`, `health`,  `age` ] and so on...)  \n",
        "Then plot the training and testing error of these 4 models. \n",
        "\n",
        "**Hint:**\n",
        "- Split your dataset into two sets: the training set (80%) and the test set(20%), set the **shuffle parameter to true** and the **random state to 3**\n",
        "- Create your linear model by fitting the intercept  weight over the training dataset (set the parameter to `True`)\n",
        "- Use the MAE on your test set to compare your 3 models (you should display these values)\n",
        "- Apply normalization (`MinMaxScaler`sklearn module).\n",
        "- Consider these features (**in this order**): `jobclass`, `health_ins`, `health`, `age`, `year`.\n",
        "- you can use python lists to save the training and testing errors\n",
        "\n"
      ]
    },
    {
      "cell_type": "code",
      "metadata": {
        "colab_type": "code",
        "id": "z8MArdQdwk3P",
        "colab": {}
      },
      "source": [
        "X = wages[['jobclass', 'health_ins', 'health', 'age', 'year']]\n",
        "y = wages[\"wage\"]"
      ],
      "execution_count": 0,
      "outputs": []
    },
    {
      "cell_type": "code",
      "metadata": {
        "colab_type": "code",
        "id": "nK-VyiMGwk3R",
        "colab": {
          "base_uri": "https://localhost:8080/",
          "height": 329
        },
        "outputId": "e0b132c2-2e8e-4aa4-d3af-7714315710d0"
      },
      "source": [
        "#Your code here: model prediction by  adding features sequentially\n",
        "train_err = []\n",
        "test_err =[]\n",
        "\n",
        "for nbr_col in range(2,6):\n",
        "  X_temp = X[X.columns[:nbr_col]]\n",
        "  X_train, X_test, y_train, y_test = train_test_split(X_temp, y, test_size = 0.2, random_state= 3, shuffle = True)\n",
        "\n",
        "  scaler = MinMaxScaler()\n",
        "\n",
        "  X_train = scaler.fit_transform(X_train)\n",
        "  X_test = scaler.fit_transform(X_test)\n",
        "\n",
        "  LR = LinearRegression(fit_intercept = True)\n",
        "\n",
        "  LR.fit(X_train, y_train)\n",
        "\n",
        "  train_err.append(mean_absolute_error(y_train, LR.predict(X_train)))\n",
        "  test_err.append(mean_absolute_error(y_test, LR.predict(X_test)))\n",
        "\n",
        "print(\"train error :\", train_err)\n",
        "print(\"test error \", test_err)\n",
        "\n",
        "plt.title(\"training and test errore regarding the number of features\")\n",
        "plt.plot(range(2,6), train_err, label=\"train_error\")\n",
        "plt.plot(range(2,6), test_err, label=\"test_error\")\n",
        "plt.legend(fontsize=10)\n",
        "plt.xlabel(\"number of features\")\n",
        "plt.ylabel(\"error\")\n",
        "plt.show()\n"
      ],
      "execution_count": 27,
      "outputs": [
        {
          "output_type": "stream",
          "text": [
            "train error : [27.629902343685906, 27.416911700295206, 26.740562098569626, 26.676794541477687]\n",
            "test error  [27.30760238613829, 27.09906338657128, 26.818192395136048, 26.83566090412051]\n"
          ],
          "name": "stdout"
        },
        {
          "output_type": "display_data",
          "data": {
            "image/png": "[encoded data removed]",
            "text/plain": [
              "<Figure size 432x288 with 1 Axes>"
            ]
          },
          "metadata": {
            "tags": []
          }
        }
      ]
    },
    {
      "cell_type": "markdown",
      "metadata": {
        "colab_type": "text",
        "id": "bxF28Wsc0jKl"
      },
      "source": [
        "**Question 11:**  \n",
        "Which model the smallest absolute difference between train and test MAE (across all the models that you tried) ?"
      ]
    },
    {
      "cell_type": "code",
      "metadata": {
        "colab_type": "code",
        "id": "uze9Q6F31a0a",
        "colab": {
          "base_uri": "https://localhost:8080/",
          "height": 68
        },
        "outputId": "3c4fe35e-50a8-442d-f540-3117819d2645"
      },
      "source": [
        "#Your code here:\n",
        "list=[]\n",
        "min= 1000\n",
        "for i in range(0, len(train_err)): \n",
        "  x = train_err[i] - test_err[i]\n",
        "  list.append(abs(x))\n",
        "\n",
        "for x in range(0,len(list)) : \n",
        "  if min > list[x] :\n",
        "    min = list[x]\n",
        "    print(\"model:\", x+1, \"value\", round(list[x],4))"
      ],
      "execution_count": 44,
      "outputs": [
        {
          "output_type": "stream",
          "text": [
            "model: 1 value 0.3223\n",
            "model: 2 value 0.3178\n",
            "model: 3 value 0.0776\n"
          ],
          "name": "stdout"
        }
      ]
    },
    {
      "cell_type": "markdown",
      "metadata": {
        "colab_type": "text",
        "id": "UAAjBl4Gwk3X"
      },
      "source": [
        "**Question 12:**  \n",
        "Which of the models have the highest test error (across all the models that you tried) ?"
      ]
    },
    {
      "cell_type": "code",
      "metadata": {
        "colab_type": "code",
        "id": "1A0f9Dkb1eDN",
        "colab": {
          "base_uri": "https://localhost:8080/",
          "height": 34
        },
        "outputId": "8d0f2961-4a98-44ca-dc1f-8a308c8cbf78"
      },
      "source": [
        "#Your code here:\n",
        "max = 0\n",
        "for x in range(0, len(list)) :\n",
        "  if max < list[x] :\n",
        "    max = list[x]\n",
        "    print('model:', x+1, \"value\", round(list[x],4))"
      ],
      "execution_count": 45,
      "outputs": [
        {
          "output_type": "stream",
          "text": [
            "model: 1 value 0.3223\n"
          ],
          "name": "stdout"
        }
      ]
    },
    {
      "cell_type": "markdown",
      "metadata": {
        "colab_type": "text",
        "id": "2G_iNWyJwk3Y"
      },
      "source": [
        "### Cross Validation feature regression\n",
        "\n",
        "**Task 2.3:**  \n",
        "Apply a one hot encoding over the columns:`race`, `education` and `maritl` (using the function `get_dummies()`).  \n",
        " \n",
        "Consider all columns of the new wages dataframe (except `wage` and `logwage` which are the targets) as model features. Implement a cross validation procedure, save the scores of the different folds in an array.\n",
        "\n",
        "**Hint:**  \n",
        "- Use `get_dummies()` function from pandas\n",
        "- Use `KFold()` module from sklearn with **3 splits**\n",
        "- Create your linear model by fitting the intercept  weight over the training dataset (set the parameter to `True`)\n",
        "- Use the R^2 score, the MAE and the MSE on your test set to compare your 3 models (you should display these values)\n",
        "- Apply normalization (`MinMaxScaler`sklearn module)."
      ]
    },
    {
      "cell_type": "code",
      "metadata": {
        "colab_type": "code",
        "id": "G_DdbJfiwk3Y",
        "outputId": "e6b7c1cb-c821-4675-8475-8783487bd4ea",
        "colab": {
          "base_uri": "https://localhost:8080/",
          "height": 309
        }
      },
      "source": [
        "#Your code here: one hot encoding\n",
        "wages_encoded = pd.get_dummies(wages.maritl)\n",
        "wages = pd.concat([wages, wages_encoded], axis=1)\n",
        "wages_encoded = pd.get_dummies(wages.education)\n",
        "wages = pd.concat([wages, wages_encoded], axis=1)\n",
        "wages.head()"
      ],
      "execution_count": 30,
      "outputs": [
        {
          "output_type": "execute_result",
          "data": {
            "text/html": [
              "<div>\n",
              "<style scoped>\n",
              "    .dataframe tbody tr th:only-of-type {\n",
              "        vertical-align: middle;\n",
              "    }\n",
              "\n",
              "    .dataframe tbody tr th {\n",
              "        vertical-align: top;\n",
              "    }\n",
              "\n",
              "    .dataframe thead th {\n",
              "        text-align: right;\n",
              "    }\n",
              "</style>\n",
              "<table border=\"1\" class=\"dataframe\">\n",
              "  <thead>\n",
              "    <tr style=\"text-align: right;\">\n",
              "      <th></th>\n",
              "      <th>year</th>\n",
              "      <th>age</th>\n",
              "      <th>maritl</th>\n",
              "      <th>race</th>\n",
              "      <th>education</th>\n",
              "      <th>jobclass</th>\n",
              "      <th>health</th>\n",
              "      <th>health_ins</th>\n",
              "      <th>logwage</th>\n",
              "      <th>wage</th>\n",
              "      <th>Divorced</th>\n",
              "      <th>Married</th>\n",
              "      <th>Never Married</th>\n",
              "      <th>Separated</th>\n",
              "      <th>Widowed</th>\n",
              "      <th>&lt; HS Grad</th>\n",
              "      <th>Advanced Degree</th>\n",
              "      <th>College Grad</th>\n",
              "      <th>HS Grad</th>\n",
              "      <th>Some College</th>\n",
              "    </tr>\n",
              "  </thead>\n",
              "  <tbody>\n",
              "    <tr>\n",
              "      <th>0</th>\n",
              "      <td>2006</td>\n",
              "      <td>18</td>\n",
              "      <td>Never Married</td>\n",
              "      <td>White</td>\n",
              "      <td>&lt; HS Grad</td>\n",
              "      <td>0</td>\n",
              "      <td>0</td>\n",
              "      <td>0</td>\n",
              "      <td>4.318063</td>\n",
              "      <td>75.043154</td>\n",
              "      <td>0</td>\n",
              "      <td>0</td>\n",
              "      <td>1</td>\n",
              "      <td>0</td>\n",
              "      <td>0</td>\n",
              "      <td>1</td>\n",
              "      <td>0</td>\n",
              "      <td>0</td>\n",
              "      <td>0</td>\n",
              "      <td>0</td>\n",
              "    </tr>\n",
              "    <tr>\n",
              "      <th>1</th>\n",
              "      <td>2004</td>\n",
              "      <td>24</td>\n",
              "      <td>Never Married</td>\n",
              "      <td>White</td>\n",
              "      <td>College Grad</td>\n",
              "      <td>1</td>\n",
              "      <td>1</td>\n",
              "      <td>0</td>\n",
              "      <td>4.255273</td>\n",
              "      <td>70.476020</td>\n",
              "      <td>0</td>\n",
              "      <td>0</td>\n",
              "      <td>1</td>\n",
              "      <td>0</td>\n",
              "      <td>0</td>\n",
              "      <td>0</td>\n",
              "      <td>0</td>\n",
              "      <td>1</td>\n",
              "      <td>0</td>\n",
              "      <td>0</td>\n",
              "    </tr>\n",
              "    <tr>\n",
              "      <th>2</th>\n",
              "      <td>2003</td>\n",
              "      <td>45</td>\n",
              "      <td>Married</td>\n",
              "      <td>White</td>\n",
              "      <td>Some College</td>\n",
              "      <td>0</td>\n",
              "      <td>0</td>\n",
              "      <td>1</td>\n",
              "      <td>4.875061</td>\n",
              "      <td>130.982177</td>\n",
              "      <td>0</td>\n",
              "      <td>1</td>\n",
              "      <td>0</td>\n",
              "      <td>0</td>\n",
              "      <td>0</td>\n",
              "      <td>0</td>\n",
              "      <td>0</td>\n",
              "      <td>0</td>\n",
              "      <td>0</td>\n",
              "      <td>1</td>\n",
              "    </tr>\n",
              "    <tr>\n",
              "      <th>3</th>\n",
              "      <td>2003</td>\n",
              "      <td>43</td>\n",
              "      <td>Married</td>\n",
              "      <td>Asian</td>\n",
              "      <td>College Grad</td>\n",
              "      <td>1</td>\n",
              "      <td>1</td>\n",
              "      <td>1</td>\n",
              "      <td>5.041393</td>\n",
              "      <td>154.685293</td>\n",
              "      <td>0</td>\n",
              "      <td>1</td>\n",
              "      <td>0</td>\n",
              "      <td>0</td>\n",
              "      <td>0</td>\n",
              "      <td>0</td>\n",
              "      <td>0</td>\n",
              "      <td>1</td>\n",
              "      <td>0</td>\n",
              "      <td>0</td>\n",
              "    </tr>\n",
              "    <tr>\n",
              "      <th>4</th>\n",
              "      <td>2005</td>\n",
              "      <td>50</td>\n",
              "      <td>Divorced</td>\n",
              "      <td>White</td>\n",
              "      <td>HS Grad</td>\n",
              "      <td>1</td>\n",
              "      <td>0</td>\n",
              "      <td>1</td>\n",
              "      <td>4.318063</td>\n",
              "      <td>75.043154</td>\n",
              "      <td>1</td>\n",
              "      <td>0</td>\n",
              "      <td>0</td>\n",
              "      <td>0</td>\n",
              "      <td>0</td>\n",
              "      <td>0</td>\n",
              "      <td>0</td>\n",
              "      <td>0</td>\n",
              "      <td>1</td>\n",
              "      <td>0</td>\n",
              "    </tr>\n",
              "  </tbody>\n",
              "</table>\n",
              "</div>"
            ],
            "text/plain": [
              "   year  age         maritl   race     education  jobclass  health  health_ins   logwage        wage  Divorced  Married  Never Married  Separated  Widowed  < HS Grad  Advanced Degree  College Grad  HS Grad  Some College\n",
              "0  2006   18  Never Married  White     < HS Grad         0       0           0  4.318063   75.043154         0        0              1          0        0          1                0             0        0             0\n",
              "1  2004   24  Never Married  White  College Grad         1       1           0  4.255273   70.476020         0        0              1          0        0          0                0             1        0             0\n",
              "2  2003   45        Married  White  Some College         0       0           1  4.875061  130.982177         0        1              0          0        0          0                0             0        0             1\n",
              "3  2003   43        Married  Asian  College Grad         1       1           1  5.041393  154.685293         0        1              0          0        0          0                0             1        0             0\n",
              "4  2005   50       Divorced  White       HS Grad         1       0           1  4.318063   75.043154         1        0              0          0        0          0                0             0        1             0"
            ]
          },
          "metadata": {
            "tags": []
          },
          "execution_count": 30
        }
      ]
    },
    {
      "cell_type": "code",
      "metadata": {
        "colab_type": "code",
        "id": "Gw8TH-GZwk3b",
        "colab": {}
      },
      "source": [
        "targets = ['wage', 'logwage']\n",
        "features = [x for x in wages.columns.tolist() if x not in targets]"
      ],
      "execution_count": 0,
      "outputs": []
    },
    {
      "cell_type": "code",
      "metadata": {
        "colab_type": "code",
        "id": "P7sSx95Mwk3f",
        "outputId": "d5e19176-3a4b-4453-a7f5-36fffd8a05d5",
        "colab": {
          "base_uri": "https://localhost:8080/",
          "height": 51
        }
      },
      "source": [
        "#Your code here: cross validation with KFolds over 3 splits\n",
        "\n",
        "from sklearn.model_selection import KFold\n",
        "from sklearn.model_selection import train_test_split\n",
        "\n",
        "kf= KFold(n_splits=3)\n",
        "kf.get_n_splits('x')\n",
        "print(kf)\n",
        "KFold(n_splits=3, random_state=3, shuffle= True)"
      ],
      "execution_count": 32,
      "outputs": [
        {
          "output_type": "stream",
          "text": [
            "KFold(n_splits=3, random_state=None, shuffle=False)\n"
          ],
          "name": "stdout"
        },
        {
          "output_type": "execute_result",
          "data": {
            "text/plain": [
              "KFold(n_splits=3, random_state=3, shuffle=True)"
            ]
          },
          "metadata": {
            "tags": []
          },
          "execution_count": 32
        }
      ]
    },
    {
      "cell_type": "markdown",
      "metadata": {
        "colab_type": "text",
        "id": "gH8ruseTOcyV"
      },
      "source": [
        "**Question 13:**  \n",
        "What is the mean (average) value of the R^2 scores across all folds (rounding to two decimals place, e.g: 1.11) ?\n"
      ]
    },
    {
      "cell_type": "code",
      "metadata": {
        "colab_type": "code",
        "id": "VUPYtpbb3zFx",
        "colab": {}
      },
      "source": [
        "#Your code here:"
      ],
      "execution_count": 0,
      "outputs": []
    },
    {
      "cell_type": "markdown",
      "metadata": {
        "colab_type": "text",
        "id": "ZtFtiaEV370W"
      },
      "source": [
        "## Part 3 : Classification\n",
        "\n",
        "For this part we will use the Titanic dataset. Load the dataset in a pandas dataframe"
      ]
    },
    {
      "cell_type": "code",
      "metadata": {
        "colab_type": "code",
        "id": "qdHm4zCxpUp9",
        "outputId": "086b10f2-202b-4632-b07d-430d7a162984",
        "colab": {
          "base_uri": "https://localhost:8080/",
          "height": 204
        }
      },
      "source": [
        "#data link\n",
        "#'https://raw.githubusercontent.com/ahmadajal/DM_ML_course_public/master/5.%20Classification/in-classExercise/data/titanic_train-clean.csv'\n",
        "link = 'https://raw.githubusercontent.com/ahmadajal/DM_ML_course_public/master/5.%20Classification/in-classExercise/data/titanic_train-clean.csv'\n",
        "titanic = pd.read_csv(link)\n",
        "titanic.head()"
      ],
      "execution_count": 34,
      "outputs": [
        {
          "output_type": "execute_result",
          "data": {
            "text/html": [
              "<div>\n",
              "<style scoped>\n",
              "    .dataframe tbody tr th:only-of-type {\n",
              "        vertical-align: middle;\n",
              "    }\n",
              "\n",
              "    .dataframe tbody tr th {\n",
              "        vertical-align: top;\n",
              "    }\n",
              "\n",
              "    .dataframe thead th {\n",
              "        text-align: right;\n",
              "    }\n",
              "</style>\n",
              "<table border=\"1\" class=\"dataframe\">\n",
              "  <thead>\n",
              "    <tr style=\"text-align: right;\">\n",
              "      <th></th>\n",
              "      <th>PassengerId</th>\n",
              "      <th>Age</th>\n",
              "      <th>Embarked</th>\n",
              "      <th>Fare</th>\n",
              "      <th>Pclass</th>\n",
              "      <th>Sex</th>\n",
              "      <th>Survived</th>\n",
              "      <th>Title</th>\n",
              "      <th>FSize</th>\n",
              "    </tr>\n",
              "  </thead>\n",
              "  <tbody>\n",
              "    <tr>\n",
              "      <th>0</th>\n",
              "      <td>1</td>\n",
              "      <td>22.0</td>\n",
              "      <td>2</td>\n",
              "      <td>7.2500</td>\n",
              "      <td>3</td>\n",
              "      <td>1</td>\n",
              "      <td>0.0</td>\n",
              "      <td>12</td>\n",
              "      <td>1</td>\n",
              "    </tr>\n",
              "    <tr>\n",
              "      <th>1</th>\n",
              "      <td>2</td>\n",
              "      <td>38.0</td>\n",
              "      <td>0</td>\n",
              "      <td>71.2833</td>\n",
              "      <td>1</td>\n",
              "      <td>0</td>\n",
              "      <td>1.0</td>\n",
              "      <td>13</td>\n",
              "      <td>1</td>\n",
              "    </tr>\n",
              "    <tr>\n",
              "      <th>2</th>\n",
              "      <td>3</td>\n",
              "      <td>26.0</td>\n",
              "      <td>2</td>\n",
              "      <td>7.9250</td>\n",
              "      <td>3</td>\n",
              "      <td>0</td>\n",
              "      <td>1.0</td>\n",
              "      <td>9</td>\n",
              "      <td>0</td>\n",
              "    </tr>\n",
              "    <tr>\n",
              "      <th>3</th>\n",
              "      <td>4</td>\n",
              "      <td>35.0</td>\n",
              "      <td>2</td>\n",
              "      <td>53.1000</td>\n",
              "      <td>1</td>\n",
              "      <td>0</td>\n",
              "      <td>1.0</td>\n",
              "      <td>13</td>\n",
              "      <td>1</td>\n",
              "    </tr>\n",
              "    <tr>\n",
              "      <th>4</th>\n",
              "      <td>5</td>\n",
              "      <td>35.0</td>\n",
              "      <td>2</td>\n",
              "      <td>8.0500</td>\n",
              "      <td>3</td>\n",
              "      <td>1</td>\n",
              "      <td>0.0</td>\n",
              "      <td>12</td>\n",
              "      <td>0</td>\n",
              "    </tr>\n",
              "  </tbody>\n",
              "</table>\n",
              "</div>"
            ],
            "text/plain": [
              "   PassengerId   Age  Embarked     Fare  Pclass  Sex  Survived  Title  FSize\n",
              "0            1  22.0         2   7.2500       3    1       0.0     12      1\n",
              "1            2  38.0         0  71.2833       1    0       1.0     13      1\n",
              "2            3  26.0         2   7.9250       3    0       1.0      9      0\n",
              "3            4  35.0         2  53.1000       1    0       1.0     13      1\n",
              "4            5  35.0         2   8.0500       3    1       0.0     12      0"
            ]
          },
          "metadata": {
            "tags": []
          },
          "execution_count": 34
        }
      ]
    },
    {
      "cell_type": "markdown",
      "metadata": {
        "colab_type": "text",
        "id": "J6IShLhopUqB"
      },
      "source": [
        "The goal of the exercise will be to classify if a passenger has survived (survived = 1) given some features. Let's use *Age, Embarked, Fare, Pclass, Sex* as features and *Survived* as target. \n",
        "Your first task is to cast the survived column to *Integer* and to define your dataframe of features (X) and your dataframe of target (y)"
      ]
    },
    {
      "cell_type": "code",
      "metadata": {
        "colab_type": "code",
        "id": "JAWaPD0ypUqC",
        "colab": {}
      },
      "source": [
        "# cast column Survived to int\n",
        "titanic['Survived'].astype('int')\n",
        "X = titanic [['Age', 'Embarked', 'Fare', 'Pclass', 'Sex']]\n",
        "y = titanic ['Survived']"
      ],
      "execution_count": 0,
      "outputs": []
    },
    {
      "cell_type": "markdown",
      "metadata": {
        "colab_type": "text",
        "id": "c9cMgvFIpUqE"
      },
      "source": [
        "Let's create a train and a test set with sklearn method *train_test_split*. We are going to use 80% for training and 20% for testing"
      ]
    },
    {
      "cell_type": "markdown",
      "metadata": {
        "colab_type": "text",
        "id": "YymoWVVopUqF"
      },
      "source": [
        "**IMPORTANT POINT** : *train_test_split* randomizes the data. In order to have the same results as those expected we need to control this randomization by giving a value for the **random_state** attribute of this method. Here use **random_state = 0** or your results will be different from ours and you won't get points"
      ]
    },
    {
      "cell_type": "code",
      "metadata": {
        "colab_type": "code",
        "id": "OnRhNeN5pUqF",
        "colab": {}
      },
      "source": [
        "# create train/test split\n",
        "X_train, X_test, y_train, y_test = train_test_split(X, y, test_size=0.2, random_state=0, shuffle=True)"
      ],
      "execution_count": 0,
      "outputs": []
    },
    {
      "cell_type": "markdown",
      "metadata": {
        "colab_type": "text",
        "id": "g7De5DlipUqH"
      },
      "source": [
        "We are going to use the Logistic Regression for our classification, without adding any parameters. You can train the model on train set"
      ]
    },
    {
      "cell_type": "code",
      "metadata": {
        "colab_type": "code",
        "id": "Zl7SL-hxpUqH",
        "outputId": "f10c7ddf-c8fa-4c7c-fc55-a4ce52b99f9d",
        "colab": {
          "base_uri": "https://localhost:8080/",
          "height": 102
        }
      },
      "source": [
        "# create logistic regression (don't put any parameters) and create the model using the training data\n",
        "from sklearn.linear_model import LogisticRegression\n",
        "model = LogisticRegression()\n",
        "model.fit(X_train, y_train)"
      ],
      "execution_count": 37,
      "outputs": [
        {
          "output_type": "execute_result",
          "data": {
            "text/plain": [
              "LogisticRegression(C=1.0, class_weight=None, dual=False, fit_intercept=True,\n",
              "                   intercept_scaling=1, l1_ratio=None, max_iter=100,\n",
              "                   multi_class='auto', n_jobs=None, penalty='l2',\n",
              "                   random_state=None, solver='lbfgs', tol=0.0001, verbose=0,\n",
              "                   warm_start=False)"
            ]
          },
          "metadata": {
            "tags": []
          },
          "execution_count": 37
        }
      ]
    },
    {
      "cell_type": "markdown",
      "metadata": {
        "colab_type": "text",
        "id": "6vyPjyzapUqK"
      },
      "source": [
        "Remember, logistic regression tries to find a vector $\\vec w$ with the same dimension as we have features (here 5) and a number $b$, the intercept\n",
        "\n",
        "**Question 14 :** Find the fourth component of the vector w (the one corresponding to Pclass), round it to the second decimal (exemple : -6.06) <br>\n",
        "**Hint :** Arrays indices start at 0"
      ]
    },
    {
      "cell_type": "code",
      "metadata": {
        "colab_type": "code",
        "id": "tz7q5yr6pUqK",
        "outputId": "490eaaaa-c05e-4c25-e28f-1d4ee1dbe363",
        "colab": {
          "base_uri": "https://localhost:8080/",
          "height": 34
        }
      },
      "source": [
        "# print the proper coefficient of the model\n",
        "round(model.coef_.flatten()[3],2)"
      ],
      "execution_count": 38,
      "outputs": [
        {
          "output_type": "execute_result",
          "data": {
            "text/plain": [
              "-1.06"
            ]
          },
          "metadata": {
            "tags": []
          },
          "execution_count": 38
        }
      ]
    },
    {
      "cell_type": "markdown",
      "metadata": {
        "colab_type": "text",
        "id": "igWuR7g2kARa"
      },
      "source": [
        "**Question 15 :** Find b, the intercept. Round it to the second decimal (exemple : -6.06)"
      ]
    },
    {
      "cell_type": "code",
      "metadata": {
        "colab_type": "code",
        "id": "YbYtncjrpUqL",
        "outputId": "27d24845-c304-4b23-a237-ae29ed0763ec",
        "colab": {
          "base_uri": "https://localhost:8080/",
          "height": 34
        }
      },
      "source": [
        "# print the intercept of the model\n",
        "round(model.intercept_[0],2)"
      ],
      "execution_count": 39,
      "outputs": [
        {
          "output_type": "execute_result",
          "data": {
            "text/plain": [
              "4.85"
            ]
          },
          "metadata": {
            "tags": []
          },
          "execution_count": 39
        }
      ]
    },
    {
      "cell_type": "markdown",
      "metadata": {
        "colab_type": "text",
        "id": "6AlrQPNcpUqO"
      },
      "source": [
        "**Question 16** : If a 42 years old man (sex = 0), embarked in city with id 0, paid his fare 17.9250 in Pclass 2, what is his probability to survive (i.e to belong to class 1). Round it to the 2nd digit (i.e. 0.12)"
      ]
    },
    {
      "cell_type": "code",
      "metadata": {
        "colab_type": "code",
        "id": "M6Ov8M76pUqO",
        "outputId": "bc85b35f-04da-48d9-efd7-357959db45a0",
        "colab": {
          "base_uri": "https://localhost:8080/",
          "height": 34
        }
      },
      "source": [
        "# print probability to survive for this person\n",
        "a = model.predict_proba([[42.0,0,17.9250,2,0]])\n",
        "a_list = [num for elem in a for num in elem]\n",
        "round(a_list[1],2)"
      ],
      "execution_count": 40,
      "outputs": [
        {
          "output_type": "execute_result",
          "data": {
            "text/plain": [
              "0.77"
            ]
          },
          "metadata": {
            "tags": []
          },
          "execution_count": 40
        }
      ]
    },
    {
      "cell_type": "markdown",
      "metadata": {
        "colab_type": "text",
        "id": "KbL8EyW4pUqb"
      },
      "source": [
        "**Question 17**: Compute the confusion matrix using the test data. Are there more survivors classified as dead or more dead people classified as survivors?"
      ]
    },
    {
      "cell_type": "code",
      "metadata": {
        "colab_type": "code",
        "id": "v2pKyHGopUqc",
        "scrolled": true,
        "outputId": "c8e3420c-a6f8-4be1-a549-b3bb346335a2",
        "colab": {
          "base_uri": "https://localhost:8080/",
          "height": 51
        }
      },
      "source": [
        "# use confusion matrix to answer this question using the test data\n",
        "from sklearn.metrics import confusion_matrix\n",
        "b = confusion_matrix(y_test, model.predict(X_test))\n",
        "print(\"more dead people classified as survivors\",b)"
      ],
      "execution_count": 41,
      "outputs": [
        {
          "output_type": "stream",
          "text": [
            "more dead people classified as survivors [[91 19]\n",
            " [17 52]]\n"
          ],
          "name": "stdout"
        }
      ]
    },
    {
      "cell_type": "markdown",
      "metadata": {
        "colab_type": "text",
        "id": "yz3fPs38pUqU"
      },
      "source": [
        "Now let's train a Classifier using KNN algorithm"
      ]
    },
    {
      "cell_type": "markdown",
      "metadata": {
        "colab_type": "text",
        "id": "cr66jBCYpUqX"
      },
      "source": [
        "**Question 18** : What is the optimal number of neighbors for the KNN algorithm, i.e. the minimal number of neighbors that maximizes the classification accuracy on the test set?  <br>\n",
        "**hint1** : The optimal number is in $[1:50]$ <br>\n",
        "**hint2** : You need to train a model for all 50 possible number of neighbors and for each compute the score of the model on the test set. Keep track of the best model at each iteration and its score"
      ]
    },
    {
      "cell_type": "code",
      "metadata": {
        "colab_type": "code",
        "id": "YVTo0FQTpUqX",
        "outputId": "5593478c-2559-4bd7-a76c-5ce0af6fa4ef",
        "colab": {
          "base_uri": "https://localhost:8080/",
          "height": 1000
        }
      },
      "source": [
        "# your code here\n",
        "from sklearn.neighbors import KNeighborsClassifier\n",
        "n_neighbors = list(range(1, 51))\n",
        "for n in n_neighbors:\n",
        "    model = KNeighborsClassifier(n_neighbors=n)\n",
        "    model.fit(X_train, y_train)\n",
        "    print(\"accuracy for k = \" + str(n) + \", score: \"  + str(model.score(X_test, y_test)))\n",
        "    print(\"optimal number : k = 15\")"
      ],
      "execution_count": 42,
      "outputs": [
        {
          "output_type": "stream",
          "text": [
            "accuracy for k = 1, score: 0.6815642458100558\n",
            "optimal number : k = 15\n",
            "accuracy for k = 2, score: 0.6703910614525139\n",
            "optimal number : k = 15\n",
            "accuracy for k = 3, score: 0.6927374301675978\n",
            "optimal number : k = 15\n",
            "accuracy for k = 4, score: 0.6871508379888268\n",
            "optimal number : k = 15\n",
            "accuracy for k = 5, score: 0.7150837988826816\n",
            "optimal number : k = 15\n",
            "accuracy for k = 6, score: 0.7094972067039106\n",
            "optimal number : k = 15\n",
            "accuracy for k = 7, score: 0.7374301675977654\n",
            "optimal number : k = 15\n",
            "accuracy for k = 8, score: 0.6983240223463687\n",
            "optimal number : k = 15\n",
            "accuracy for k = 9, score: 0.7430167597765364\n",
            "optimal number : k = 15\n",
            "accuracy for k = 10, score: 0.7374301675977654\n",
            "optimal number : k = 15\n",
            "accuracy for k = 11, score: 0.7318435754189944\n",
            "optimal number : k = 15\n",
            "accuracy for k = 12, score: 0.7206703910614525\n",
            "optimal number : k = 15\n",
            "accuracy for k = 13, score: 0.7318435754189944\n",
            "optimal number : k = 15\n",
            "accuracy for k = 14, score: 0.7486033519553073\n",
            "optimal number : k = 15\n",
            "accuracy for k = 15, score: 0.7653631284916201\n",
            "optimal number : k = 15\n",
            "accuracy for k = 16, score: 0.7374301675977654\n",
            "optimal number : k = 15\n",
            "accuracy for k = 17, score: 0.7486033519553073\n",
            "optimal number : k = 15\n",
            "accuracy for k = 18, score: 0.7318435754189944\n",
            "optimal number : k = 15\n",
            "accuracy for k = 19, score: 0.7486033519553073\n",
            "optimal number : k = 15\n",
            "accuracy for k = 20, score: 0.7318435754189944\n",
            "optimal number : k = 15\n",
            "accuracy for k = 21, score: 0.7541899441340782\n",
            "optimal number : k = 15\n",
            "accuracy for k = 22, score: 0.7486033519553073\n",
            "optimal number : k = 15\n",
            "accuracy for k = 23, score: 0.7597765363128491\n",
            "optimal number : k = 15\n",
            "accuracy for k = 24, score: 0.7430167597765364\n",
            "optimal number : k = 15\n",
            "accuracy for k = 25, score: 0.7653631284916201\n",
            "optimal number : k = 15\n",
            "accuracy for k = 26, score: 0.7541899441340782\n",
            "optimal number : k = 15\n",
            "accuracy for k = 27, score: 0.7541899441340782\n",
            "optimal number : k = 15\n",
            "accuracy for k = 28, score: 0.7653631284916201\n",
            "optimal number : k = 15\n",
            "accuracy for k = 29, score: 0.7597765363128491\n",
            "optimal number : k = 15\n",
            "accuracy for k = 30, score: 0.7541899441340782\n",
            "optimal number : k = 15\n",
            "accuracy for k = 31, score: 0.7541899441340782\n",
            "optimal number : k = 15\n",
            "accuracy for k = 32, score: 0.7486033519553073\n",
            "optimal number : k = 15\n",
            "accuracy for k = 33, score: 0.7597765363128491\n",
            "optimal number : k = 15\n",
            "accuracy for k = 34, score: 0.7597765363128491\n",
            "optimal number : k = 15\n",
            "accuracy for k = 35, score: 0.7541899441340782\n",
            "optimal number : k = 15\n",
            "accuracy for k = 36, score: 0.7486033519553073\n",
            "optimal number : k = 15\n",
            "accuracy for k = 37, score: 0.7486033519553073\n",
            "optimal number : k = 15\n",
            "accuracy for k = 38, score: 0.7486033519553073\n",
            "optimal number : k = 15\n",
            "accuracy for k = 39, score: 0.7486033519553073\n",
            "optimal number : k = 15\n",
            "accuracy for k = 40, score: 0.7374301675977654\n",
            "optimal number : k = 15\n",
            "accuracy for k = 41, score: 0.7318435754189944\n",
            "optimal number : k = 15\n",
            "accuracy for k = 42, score: 0.7374301675977654\n",
            "optimal number : k = 15\n",
            "accuracy for k = 43, score: 0.7262569832402235\n",
            "optimal number : k = 15\n",
            "accuracy for k = 44, score: 0.7374301675977654\n",
            "optimal number : k = 15\n",
            "accuracy for k = 45, score: 0.7374301675977654\n",
            "optimal number : k = 15\n",
            "accuracy for k = 46, score: 0.7430167597765364\n",
            "optimal number : k = 15\n",
            "accuracy for k = 47, score: 0.7430167597765364\n",
            "optimal number : k = 15\n",
            "accuracy for k = 48, score: 0.7486033519553073\n",
            "optimal number : k = 15\n",
            "accuracy for k = 49, score: 0.7486033519553073\n",
            "optimal number : k = 15\n",
            "accuracy for k = 50, score: 0.7318435754189944\n",
            "optimal number : k = 15\n"
          ],
          "name": "stdout"
        }
      ]
    },
    {
      "cell_type": "markdown",
      "metadata": {
        "colab_type": "text",
        "id": "OTg7FDQQpUqZ"
      },
      "source": [
        "Now let's try a Decision Tree classifier"
      ]
    },
    {
      "cell_type": "markdown",
      "metadata": {
        "colab_type": "text",
        "id": "htgZ5NVUpUqZ"
      },
      "source": [
        "**Question 19** : What is the value of maxi_depth for the decision Tree algorithm that maximizes the classification accuracy?<br>\n",
        "**hint1** : The optimal number is in $[1:10]$ <br>**Indication** : For the classifier, use *random_sate* = 0"
      ]
    },
    {
      "cell_type": "code",
      "metadata": {
        "colab_type": "code",
        "id": "qlC17EFrpUqa",
        "outputId": "fc37914d-48fa-4d52-d31a-06b7849e7154",
        "colab": {
          "base_uri": "https://localhost:8080/",
          "height": 68
        }
      },
      "source": [
        "# your code here\n",
        "from sklearn import tree\n",
        "from sklearn.tree import DecisionTreeClassifier\n",
        "model = DecisionTreeClassifier(max_depth = 1)\n",
        "model.fit(X_train, y_train)\n",
        "print(model.score(X_test, y_test))\n",
        "depth = 5\n",
        "model = DecisionTreeClassifier(max_depth = depth)\n",
        "model.fit(X_train, y_train)\n",
        "accuracy = model.score(X_test, y_test)\n",
        "while accuracy == 1:\n",
        "    depth -= 1\n",
        "    model = DecisionTreeClassifier(max_depth = depth)\n",
        "    model.fit(X_train, y_train)\n",
        "    accuracy = model.score(X_test, y_test)\n",
        "print(depth+1)\n",
        "print(\"The value of maxi_depth for the decision Tree algorithm that maximizes the classification accuracy is: 6\")"
      ],
      "execution_count": 43,
      "outputs": [
        {
          "output_type": "stream",
          "text": [
            "0.7877094972067039\n",
            "6\n",
            "The value of maxi_depth for the decision Tree algorithm that maximizes the classification accuracy is: 6\n"
          ],
          "name": "stdout"
        }
      ]
    }
  ]
}